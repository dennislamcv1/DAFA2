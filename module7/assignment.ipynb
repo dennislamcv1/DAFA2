{
 "cells": [
  {
   "cell_type": "markdown",
   "metadata": {
    "deletable": false,
    "editable": false
   },
   "source": [
    "# Module 7 Assignment\n",
    "\n",
    "A few things you should keep in mind when working on assignments:\n",
    "\n",
    "1. Make sure you fill in any place that says `# YOUR CODE HERE`. Do not write your answer anywhere else other than where it says `# YOUR CODE HERE`. Anything you write elsewhere will be removed or overwritten by the autograder.\n",
    "2. Before you submit your assignment, make sure everything runs as expected. Go to the menubar, select Kernel, and restart the kernel and run all cells (Restart & Run all).\n",
    "3. Do not change the title (i.e. file name) of this notebook.\n",
    "4. Make sure that you save your work (in the menubar, select File → Save and CheckPoint).\n",
    "5. All work must be your own, if you do use any code from another source (such as a course notebook or a website) you need to properly cite the source.\n",
    "\n",
    "-----"
   ]
  },
  {
   "cell_type": "code",
   "execution_count": 1,
   "metadata": {
    "deletable": false
   },
   "outputs": [],
   "source": [
    "%matplotlib inline\n",
    "\n",
    "import numpy as np\n",
    "import pandas as pd\n",
    "\n",
    "import matplotlib.pyplot as plt\n",
    "import seaborn as sns\n",
    "\n",
    "#from nose.tools import assert_is_instance, assert_equal, assert_almost_equal"
   ]
  },
  {
   "cell_type": "markdown",
   "metadata": {
    "deletable": false,
    "editable": false
   },
   "source": [
    "-----\n",
    "\n",
    "## Loading Car Specification Data\n",
    "\n",
    "In this assignment, we will work with the car specification-price data set to perform clustering analysis. Before we build a model, we first load the data into the assignment notebook, and randomly sample several rows. The second Code cell removes non-numeric features.\n",
    "\n",
    "-----"
   ]
  },
  {
   "cell_type": "code",
   "execution_count": 2,
   "metadata": {
    "deletable": false
   },
   "outputs": [
    {
     "data": {
      "text/html": [
       "<div>\n",
       "<style scoped>\n",
       "    .dataframe tbody tr th:only-of-type {\n",
       "        vertical-align: middle;\n",
       "    }\n",
       "\n",
       "    .dataframe tbody tr th {\n",
       "        vertical-align: top;\n",
       "    }\n",
       "\n",
       "    .dataframe thead th {\n",
       "        text-align: right;\n",
       "    }\n",
       "</style>\n",
       "<table border=\"1\" class=\"dataframe\">\n",
       "  <thead>\n",
       "    <tr style=\"text-align: right;\">\n",
       "      <th></th>\n",
       "      <th>symboling</th>\n",
       "      <th>normalized-losses</th>\n",
       "      <th>make</th>\n",
       "      <th>fuel-type</th>\n",
       "      <th>aspiration</th>\n",
       "      <th>num-of-doors</th>\n",
       "      <th>body-style</th>\n",
       "      <th>drive-wheels</th>\n",
       "      <th>'engine-location'</th>\n",
       "      <th>wheel-base</th>\n",
       "      <th>...</th>\n",
       "      <th>engine-size</th>\n",
       "      <th>fuel-system</th>\n",
       "      <th>bore</th>\n",
       "      <th>stroke</th>\n",
       "      <th>compression-ratio'</th>\n",
       "      <th>horsepower</th>\n",
       "      <th>peak-rpm</th>\n",
       "      <th>city-mpg</th>\n",
       "      <th>highway</th>\n",
       "      <th>price</th>\n",
       "    </tr>\n",
       "  </thead>\n",
       "  <tbody>\n",
       "    <tr>\n",
       "      <th>40</th>\n",
       "      <td>0</td>\n",
       "      <td>85</td>\n",
       "      <td>5</td>\n",
       "      <td>1</td>\n",
       "      <td>std</td>\n",
       "      <td>4.0</td>\n",
       "      <td>2</td>\n",
       "      <td>fwd</td>\n",
       "      <td>front</td>\n",
       "      <td>96.5</td>\n",
       "      <td>...</td>\n",
       "      <td>110</td>\n",
       "      <td>1bbl</td>\n",
       "      <td>3.15</td>\n",
       "      <td>3.58</td>\n",
       "      <td>9.0</td>\n",
       "      <td>86</td>\n",
       "      <td>5800</td>\n",
       "      <td>27</td>\n",
       "      <td>33</td>\n",
       "      <td>10295.0</td>\n",
       "    </tr>\n",
       "    <tr>\n",
       "      <th>181</th>\n",
       "      <td>-1</td>\n",
       "      <td>122</td>\n",
       "      <td>19</td>\n",
       "      <td>1</td>\n",
       "      <td>std</td>\n",
       "      <td>4.0</td>\n",
       "      <td>1</td>\n",
       "      <td>rwd</td>\n",
       "      <td>front</td>\n",
       "      <td>104.5</td>\n",
       "      <td>...</td>\n",
       "      <td>161</td>\n",
       "      <td>mpfi</td>\n",
       "      <td>3.27</td>\n",
       "      <td>3.35</td>\n",
       "      <td>9.2</td>\n",
       "      <td>156</td>\n",
       "      <td>5200</td>\n",
       "      <td>19</td>\n",
       "      <td>24</td>\n",
       "      <td>15750.0</td>\n",
       "    </tr>\n",
       "    <tr>\n",
       "      <th>3</th>\n",
       "      <td>2</td>\n",
       "      <td>164</td>\n",
       "      <td>1</td>\n",
       "      <td>1</td>\n",
       "      <td>std</td>\n",
       "      <td>4.0</td>\n",
       "      <td>2</td>\n",
       "      <td>fwd</td>\n",
       "      <td>front</td>\n",
       "      <td>99.8</td>\n",
       "      <td>...</td>\n",
       "      <td>109</td>\n",
       "      <td>mpfi</td>\n",
       "      <td>3.19</td>\n",
       "      <td>3.40</td>\n",
       "      <td>10.0</td>\n",
       "      <td>102</td>\n",
       "      <td>5500</td>\n",
       "      <td>24</td>\n",
       "      <td>30</td>\n",
       "      <td>13950.0</td>\n",
       "    </tr>\n",
       "    <tr>\n",
       "      <th>22</th>\n",
       "      <td>1</td>\n",
       "      <td>118</td>\n",
       "      <td>4</td>\n",
       "      <td>1</td>\n",
       "      <td>std</td>\n",
       "      <td>2.0</td>\n",
       "      <td>3</td>\n",
       "      <td>fwd</td>\n",
       "      <td>front</td>\n",
       "      <td>93.7</td>\n",
       "      <td>...</td>\n",
       "      <td>90</td>\n",
       "      <td>2bbl</td>\n",
       "      <td>2.97</td>\n",
       "      <td>3.23</td>\n",
       "      <td>9.4</td>\n",
       "      <td>68</td>\n",
       "      <td>5500</td>\n",
       "      <td>31</td>\n",
       "      <td>38</td>\n",
       "      <td>6377.0</td>\n",
       "    </tr>\n",
       "    <tr>\n",
       "      <th>37</th>\n",
       "      <td>0</td>\n",
       "      <td>106</td>\n",
       "      <td>5</td>\n",
       "      <td>1</td>\n",
       "      <td>std</td>\n",
       "      <td>2.0</td>\n",
       "      <td>3</td>\n",
       "      <td>fwd</td>\n",
       "      <td>front</td>\n",
       "      <td>96.5</td>\n",
       "      <td>...</td>\n",
       "      <td>110</td>\n",
       "      <td>1bbl</td>\n",
       "      <td>3.15</td>\n",
       "      <td>3.58</td>\n",
       "      <td>9.0</td>\n",
       "      <td>86</td>\n",
       "      <td>5800</td>\n",
       "      <td>27</td>\n",
       "      <td>33</td>\n",
       "      <td>7895.0</td>\n",
       "    </tr>\n",
       "  </tbody>\n",
       "</table>\n",
       "<p>5 rows × 26 columns</p>\n",
       "</div>"
      ],
      "text/plain": [
       "     symboling  normalized-losses  make  fuel-type aspiration  num-of-doors  \\\n",
       "40           0                 85     5          1        std           4.0   \n",
       "181         -1                122    19          1        std           4.0   \n",
       "3            2                164     1          1        std           4.0   \n",
       "22           1                118     4          1        std           2.0   \n",
       "37           0                106     5          1        std           2.0   \n",
       "\n",
       "     body-style drive-wheels 'engine-location'  wheel-base  ...  engine-size  \\\n",
       "40            2          fwd             front        96.5  ...          110   \n",
       "181           1          rwd             front       104.5  ...          161   \n",
       "3             2          fwd             front        99.8  ...          109   \n",
       "22            3          fwd             front        93.7  ...           90   \n",
       "37            3          fwd             front        96.5  ...          110   \n",
       "\n",
       "     fuel-system  bore  stroke compression-ratio' horsepower  peak-rpm  \\\n",
       "40          1bbl  3.15    3.58                9.0         86      5800   \n",
       "181         mpfi  3.27    3.35                9.2        156      5200   \n",
       "3           mpfi  3.19    3.40               10.0        102      5500   \n",
       "22          2bbl  2.97    3.23                9.4         68      5500   \n",
       "37          1bbl  3.15    3.58                9.0         86      5800   \n",
       "\n",
       "    city-mpg highway    price  \n",
       "40        27      33  10295.0  \n",
       "181       19      24  15750.0  \n",
       "3         24      30  13950.0  \n",
       "22        31      38   6377.0  \n",
       "37        27      33   7895.0  \n",
       "\n",
       "[5 rows x 26 columns]"
      ]
     },
     "execution_count": 2,
     "metadata": {},
     "output_type": "execute_result"
    }
   ],
   "source": [
    "# Load data\n",
    "df = pd.read_csv('imports-85.data')\n",
    "df.sample(5)"
   ]
  },
  {
   "cell_type": "code",
   "execution_count": 3,
   "metadata": {
    "deletable": false
   },
   "outputs": [
    {
     "data": {
      "text/html": [
       "<div>\n",
       "<style scoped>\n",
       "    .dataframe tbody tr th:only-of-type {\n",
       "        vertical-align: middle;\n",
       "    }\n",
       "\n",
       "    .dataframe tbody tr th {\n",
       "        vertical-align: top;\n",
       "    }\n",
       "\n",
       "    .dataframe thead th {\n",
       "        text-align: right;\n",
       "    }\n",
       "</style>\n",
       "<table border=\"1\" class=\"dataframe\">\n",
       "  <thead>\n",
       "    <tr style=\"text-align: right;\">\n",
       "      <th></th>\n",
       "      <th>symboling</th>\n",
       "      <th>normalized-losses</th>\n",
       "      <th>make</th>\n",
       "      <th>fuel-type</th>\n",
       "      <th>num-of-doors</th>\n",
       "      <th>body-style</th>\n",
       "      <th>wheel-base</th>\n",
       "      <th>length</th>\n",
       "      <th>width</th>\n",
       "      <th>height</th>\n",
       "      <th>curb-weight</th>\n",
       "      <th>engine-size</th>\n",
       "      <th>compression-ratio'</th>\n",
       "      <th>city-mpg</th>\n",
       "      <th>highway</th>\n",
       "      <th>price</th>\n",
       "    </tr>\n",
       "  </thead>\n",
       "  <tbody>\n",
       "    <tr>\n",
       "      <th>0</th>\n",
       "      <td>3</td>\n",
       "      <td>122</td>\n",
       "      <td>0</td>\n",
       "      <td>1</td>\n",
       "      <td>2.0</td>\n",
       "      <td>4</td>\n",
       "      <td>88.6</td>\n",
       "      <td>168.8</td>\n",
       "      <td>64.1</td>\n",
       "      <td>48.8</td>\n",
       "      <td>2548</td>\n",
       "      <td>130</td>\n",
       "      <td>9.0</td>\n",
       "      <td>21</td>\n",
       "      <td>27</td>\n",
       "      <td>13495.0</td>\n",
       "    </tr>\n",
       "    <tr>\n",
       "      <th>1</th>\n",
       "      <td>3</td>\n",
       "      <td>122</td>\n",
       "      <td>0</td>\n",
       "      <td>1</td>\n",
       "      <td>2.0</td>\n",
       "      <td>4</td>\n",
       "      <td>88.6</td>\n",
       "      <td>168.8</td>\n",
       "      <td>64.1</td>\n",
       "      <td>48.8</td>\n",
       "      <td>2548</td>\n",
       "      <td>130</td>\n",
       "      <td>9.0</td>\n",
       "      <td>21</td>\n",
       "      <td>27</td>\n",
       "      <td>16500.0</td>\n",
       "    </tr>\n",
       "    <tr>\n",
       "      <th>2</th>\n",
       "      <td>1</td>\n",
       "      <td>122</td>\n",
       "      <td>0</td>\n",
       "      <td>1</td>\n",
       "      <td>2.0</td>\n",
       "      <td>3</td>\n",
       "      <td>94.5</td>\n",
       "      <td>171.2</td>\n",
       "      <td>65.5</td>\n",
       "      <td>52.4</td>\n",
       "      <td>2823</td>\n",
       "      <td>152</td>\n",
       "      <td>9.0</td>\n",
       "      <td>19</td>\n",
       "      <td>26</td>\n",
       "      <td>16500.0</td>\n",
       "    </tr>\n",
       "    <tr>\n",
       "      <th>3</th>\n",
       "      <td>2</td>\n",
       "      <td>164</td>\n",
       "      <td>1</td>\n",
       "      <td>1</td>\n",
       "      <td>4.0</td>\n",
       "      <td>2</td>\n",
       "      <td>99.8</td>\n",
       "      <td>176.6</td>\n",
       "      <td>66.2</td>\n",
       "      <td>54.3</td>\n",
       "      <td>2337</td>\n",
       "      <td>109</td>\n",
       "      <td>10.0</td>\n",
       "      <td>24</td>\n",
       "      <td>30</td>\n",
       "      <td>13950.0</td>\n",
       "    </tr>\n",
       "    <tr>\n",
       "      <th>4</th>\n",
       "      <td>2</td>\n",
       "      <td>164</td>\n",
       "      <td>1</td>\n",
       "      <td>1</td>\n",
       "      <td>4.0</td>\n",
       "      <td>2</td>\n",
       "      <td>99.4</td>\n",
       "      <td>176.6</td>\n",
       "      <td>66.4</td>\n",
       "      <td>54.3</td>\n",
       "      <td>2824</td>\n",
       "      <td>136</td>\n",
       "      <td>8.0</td>\n",
       "      <td>18</td>\n",
       "      <td>22</td>\n",
       "      <td>17450.0</td>\n",
       "    </tr>\n",
       "  </tbody>\n",
       "</table>\n",
       "</div>"
      ],
      "text/plain": [
       "   symboling  normalized-losses  make  fuel-type  num-of-doors  body-style  \\\n",
       "0          3                122     0          1           2.0           4   \n",
       "1          3                122     0          1           2.0           4   \n",
       "2          1                122     0          1           2.0           3   \n",
       "3          2                164     1          1           4.0           2   \n",
       "4          2                164     1          1           4.0           2   \n",
       "\n",
       "   wheel-base  length  width  height  curb-weight  engine-size  \\\n",
       "0        88.6   168.8   64.1    48.8         2548          130   \n",
       "1        88.6   168.8   64.1    48.8         2548          130   \n",
       "2        94.5   171.2   65.5    52.4         2823          152   \n",
       "3        99.8   176.6   66.2    54.3         2337          109   \n",
       "4        99.4   176.6   66.4    54.3         2824          136   \n",
       "\n",
       "   compression-ratio'  city-mpg  highway    price  \n",
       "0                 9.0        21       27  13495.0  \n",
       "1                 9.0        21       27  16500.0  \n",
       "2                 9.0        19       26  16500.0  \n",
       "3                10.0        24       30  13950.0  \n",
       "4                 8.0        18       22  17450.0  "
      ]
     },
     "execution_count": 3,
     "metadata": {},
     "output_type": "execute_result"
    }
   ],
   "source": [
    "# Remove non-numeric features\n",
    "df_simple = df[df.columns[df.dtypes!=object]]\n",
    "df_simple.head()"
   ]
  },
  {
   "cell_type": "markdown",
   "metadata": {
    "deletable": false,
    "editable": false
   },
   "source": [
    "-----\n",
    "\n",
    "## Problem 1: K-Means Clustering\n",
    "\n",
    "For this problem, you will complete the `cluster` function, started below, to perform K-Means clustering on an input DataFrame. This function must create the [`KMeans`](http://scikit-learn.org/stable/modules/generated/sklearn.cluster.KMeans.html) estimator, and apply this estimator to the input data to predict cluster membership. Your function will return both the model, and the cluster labels for each instance in the input data set.\n",
    "\n",
    "-----"
   ]
  },
  {
   "cell_type": "code",
   "execution_count": 4,
   "metadata": {
    "nbgrader": {
     "checksum": "26d56a33e28fa8b3f720b0bf84484e8a",
     "grade": false,
     "grade_id": "p1_answer",
     "locked": false,
     "schema_version": 1,
     "solution": true
    }
   },
   "outputs": [
    {
     "data": {
      "text/plain": [
       "array([[ 3.0000e+00,  1.2200e+02,  0.0000e+00, ...,  2.1000e+01,\n",
       "         2.7000e+01,  1.3495e+04],\n",
       "       [ 3.0000e+00,  1.2200e+02,  0.0000e+00, ...,  2.1000e+01,\n",
       "         2.7000e+01,  1.6500e+04],\n",
       "       [ 1.0000e+00,  1.2200e+02,  0.0000e+00, ...,  1.9000e+01,\n",
       "         2.6000e+01,  1.6500e+04],\n",
       "       ...,\n",
       "       [-1.0000e+00,  9.5000e+01,  2.1000e+01, ...,  1.8000e+01,\n",
       "         2.3000e+01,  2.1485e+04],\n",
       "       [-1.0000e+00,  9.5000e+01,  2.1000e+01, ...,  2.6000e+01,\n",
       "         2.7000e+01,  2.2470e+04],\n",
       "       [-1.0000e+00,  9.5000e+01,  2.1000e+01, ...,  1.9000e+01,\n",
       "         2.5000e+01,  2.2625e+04]])"
      ]
     },
     "execution_count": 4,
     "metadata": {},
     "output_type": "execute_result"
    }
   ],
   "source": [
    "from sklearn.cluster import KMeans\n",
    "\n",
    "X = df_simple.values\n",
    "\n",
    "X\n",
    "\n",
    "# def cluster(data, rs=0, n_clusters=5):\n",
    "#     \"\"\"\n",
    "#     Applies KMeans to find n_clusters in the given data.\n",
    "    \n",
    "#     Parameters\n",
    "#     ----------\n",
    "#     data: The dataset to apply clustering to\n",
    "#     rs: A paremter for reproducibility\n",
    "#     n_clusters: The number of clusters\n",
    "    \n",
    "#     Returns\n",
    "#     -------\n",
    "#     model: the K-means model object\n",
    "#     clusters: the cluster label of each datapoint\n",
    "#     \"\"\"\n",
    "    \n",
    "#     ### YOUR CODE HERE\n",
    "    \n",
    "#     return model, clusters"
   ]
  },
  {
   "cell_type": "code",
   "execution_count": 5,
   "metadata": {},
   "outputs": [],
   "source": [
    "kmeans = KMeans(n_clusters=6, random_state=1)"
   ]
  },
  {
   "cell_type": "code",
   "execution_count": 6,
   "metadata": {},
   "outputs": [
    {
     "data": {
      "text/plain": [
       "array([[20695.87602014,  1685.54146739,  3458.5134421 ,  6008.39392791,\n",
       "        29085.17643501, 10257.05539007],\n",
       "       [17694.51433137,  4689.8803871 ,   584.44950955,  9008.65682636,\n",
       "        26082.69311099,  7258.96857827],\n",
       "       [17681.98533671,  4694.76834616,   447.74300074,  9025.49360693,\n",
       "        26072.2425188 ,  7241.97367406],\n",
       "       ...,\n",
       "       [12693.38593396,  9683.31991427,  4554.97699091, 14011.79959593,\n",
       "        21083.71507733,  2253.83260013],\n",
       "       [11702.84061396, 10677.24027258,  5546.14197634, 15008.23789795,\n",
       "        20093.77801266,  1268.8997526 ],\n",
       "       [11552.52618829, 10824.29676588,  5695.54915278, 15152.57205314,\n",
       "        19942.92208794,  1113.28352811]])"
      ]
     },
     "execution_count": 6,
     "metadata": {},
     "output_type": "execute_result"
    }
   ],
   "source": [
    "X_new = kmeans.fit_transform(X)\n",
    "X_new"
   ]
  },
  {
   "cell_type": "code",
   "execution_count": 7,
   "metadata": {
    "deletable": false,
    "nbgrader": {
     "checksum": "27cf01ecb61ef2fe6dedb04f01b7674e",
     "grade": true,
     "grade_id": "p1_test",
     "locked": true,
     "points": 1,
     "schema_version": 1,
     "solution": false
    }
   },
   "outputs": [],
   "source": [
    "# from sklearn.cluster import k_means_\n",
    "\n",
    "# # Perform kMeans clustering\n",
    "# k_means, clusters = cluster(df_simple, rs=1, n_clusters=6)\n",
    "\n",
    "# # Test Function\n",
    "# assert_is_instance(k_means, k_means_.KMeans)\n",
    "# assert_is_instance(clusters, np.ndarray)\n",
    "# assert_equal(k_means.n_clusters, 6)\n",
    "# assert_equal(clusters[0],1)"
   ]
  },
  {
   "cell_type": "markdown",
   "metadata": {
    "deletable": false,
    "editable": false
   },
   "source": [
    "-----\n",
    "\n",
    "## Problem 2: The Elbow Method\n",
    "\n",
    "For this problem, you will complete the `inertia_calc` function, started below, to compute the inertia values for different K-Means cluster models. This function will use the cluster model passed in via the `cluster_function` parameter to identify clusters in the `data` dataset by calling the appropriate `fit` function. The fitted model can be used to extract the model inertias, which should be aggregated in a NumPy array (along with all the different inertias for each value in the `n_clusters` array) that will be returned from the function.\n",
    "\n",
    "-----"
   ]
  },
  {
   "cell_type": "code",
   "execution_count": 8,
   "metadata": {},
   "outputs": [],
   "source": [
    "wcss = []\n",
    "\n",
    "for i in range(2,10):\n",
    "    kmeans = KMeans(n_clusters=i,init='k-means++',random_state=1)\n",
    "    kmeans.fit(X)\n",
    "    wcss.append(kmeans.inertia_)"
   ]
  },
  {
   "cell_type": "code",
   "execution_count": 9,
   "metadata": {},
   "outputs": [
    {
     "data": {
      "image/png": "[encoded data removed]",
      "text/plain": [
       "<Figure size 720x576 with 1 Axes>"
      ]
     },
     "metadata": {
      "needs_background": "light"
     },
     "output_type": "display_data"
    }
   ],
   "source": [
    "plt.figure(figsize=(10,8))\n",
    "plt.plot(range(2,10),wcss,linewidth=2)\n",
    "plt.xlabel(\"Number of Clusters\")\n",
    "plt.ylabel(\"WCSS\")\n",
    "plt.show()"
   ]
  },
  {
   "cell_type": "code",
   "execution_count": 10,
   "metadata": {},
   "outputs": [
    {
     "data": {
      "text/plain": [
       "8096449811.096569"
      ]
     },
     "execution_count": 10,
     "metadata": {},
     "output_type": "execute_result"
    }
   ],
   "source": [
    "np.sum(wcss) # Compute Intertia"
   ]
  },
  {
   "cell_type": "code",
   "execution_count": 11,
   "metadata": {
    "nbgrader": {
     "checksum": "72a46ee0a2ca81d0ca7e7d8faf97945f",
     "grade": false,
     "grade_id": "p2_answer",
     "locked": false,
     "schema_version": 1,
     "solution": true
    }
   },
   "outputs": [],
   "source": [
    "# def intertia_calc(cluster_function, data, n_clusters):\n",
    "#     \"\"\"\n",
    "#     Compute inertia values for different numbers of clusters\n",
    "    \n",
    "#     Parameters\n",
    "#     ----------\n",
    "#     cluster_function: The function used to determine clusters\n",
    "#     data: The dataset to which the clustering function is applied\n",
    "#     n_clusters: An array containing the different numbers of clusters\n",
    "    \n",
    "#     Returns\n",
    "#     -------\n",
    "#     intertias: A NumPy array of inertias for each k-means model.\n",
    "#     \"\"\"\n",
    "    \n",
    "#     ### YOUR CODE HERE\n",
    "    \n",
    "#     return intertias"
   ]
  },
  {
   "cell_type": "code",
   "execution_count": 12,
   "metadata": {
    "deletable": false,
    "nbgrader": {
     "checksum": "528b7f074675f14fecbc3ae024eaddd6",
     "grade": true,
     "grade_id": "p2_test",
     "locked": true,
     "points": 1,
     "schema_version": 1,
     "solution": false
    }
   },
   "outputs": [],
   "source": [
    "# # Define cluster size array\n",
    "# n_clusters = np.arange(2,10)\n",
    "\n",
    "# # Compute Intertia\n",
    "# inertia_vec=intertia_calc(cluster, df_simple, n_clusters)\n",
    "\n",
    "# # Test Inertia Calculation\n",
    "# assert_is_instance(inertia_vec, np.ndarray)\n",
    "# assert_almost_equal(sum(inertia_vec), 8098575233.7986,places=2)"
   ]
  },
  {
   "cell_type": "markdown",
   "metadata": {
    "deletable": false,
    "editable": false
   },
   "source": [
    "-----\n",
    "\n",
    "The following Code cell generates the _elbow plot_, which indicates (based on the location of the elbow, or break in slope) that the optimal number of clusters is three.\n",
    "\n",
    "-----"
   ]
  },
  {
   "cell_type": "code",
   "execution_count": 13,
   "metadata": {
    "deletable": false
   },
   "outputs": [],
   "source": [
    "# Make the Elbow plot\n",
    "# fig, ax = plt.subplots()\n",
    "# ax.plot(n_clusters, inertia_vec)\n",
    "# ax.set(title='Elbow Plot', \n",
    "#        xlabel='Number of Clusters', \n",
    "#        ylabel='Total distance')\n",
    "\n",
    "# sns.despine()"
   ]
  },
  {
   "cell_type": "markdown",
   "metadata": {
    "deletable": false,
    "editable": false
   },
   "source": [
    "-----\n",
    "\n",
    "## Problem 3: Gaussian Mixture Models\n",
    "\n",
    "For this problem, you will complete the `GMM_fit` function, started below, to compute the Gaussian Mixture Model for the supplied data. This function must create the [`GaussianMixture`](http://scikit-learn.org/stable/modules/generated/sklearn.mixture.GaussianMixture.html) estimator, and apply this estimator to the input data to predict cluster membership. Your function will return both the model, and the cluster labels for each instance in the input data set.\n",
    "\n",
    "-----"
   ]
  },
  {
   "cell_type": "code",
   "execution_count": 14,
   "metadata": {
    "nbgrader": {
     "checksum": "2e5f0f2b915d5193c8242ff3fdc69243",
     "grade": false,
     "grade_id": "p3_answer",
     "locked": false,
     "schema_version": 1,
     "solution": true
    }
   },
   "outputs": [],
   "source": [
    "from sklearn.mixture import GaussianMixture\n",
    "\n",
    "gm = GaussianMixture(n_components=3, random_state=0).fit(X)\n",
    "\n",
    "# def GMM_fit(data, rs=0, n_c=5):\n",
    "#     '''\n",
    "#     Apply a Gaussian Mixture Model to input data\n",
    "    \n",
    "#     Parameters\n",
    "#     ----------\n",
    "#     data: The dataset to which the mxture model is applied\n",
    "#     rs: A parameter for reproducibility\n",
    "#     n_c: The number of clusters\n",
    "    \n",
    "#     Returns\n",
    "#     -------\n",
    "#     model: the GMM model\n",
    "#     clusters: the cluster label of each datapoint\n",
    "#     '''\n",
    "    \n",
    "#     ### YOUR CODE HERE\n",
    "    \n",
    "#     return model, clusters"
   ]
  },
  {
   "cell_type": "code",
   "execution_count": 15,
   "metadata": {},
   "outputs": [
    {
     "data": {
      "text/plain": [
       "array([[9.45651383e-01, 1.33498982e+02, 1.15276086e+01, 8.86746529e-01,\n",
       "        3.15909353e+00, 2.28111007e+00, 1.01390562e+02, 1.80938076e+02,\n",
       "        6.69248918e+01, 5.39582982e+01, 2.85784525e+03, 1.37563188e+02,\n",
       "        1.02030911e+01, 2.13003187e+01, 2.67639350e+01, 1.58099025e+04],\n",
       "       [7.83811905e-01, 1.14060587e+02, 1.32281721e+01, 9.26958804e-01,\n",
       "        3.11507022e+00, 2.21602228e+00, 9.58345201e+01, 1.66643961e+02,\n",
       "        6.46754709e+01, 5.35226785e+01, 2.19320339e+03, 1.04119714e+02,\n",
       "        9.96149993e+00, 2.93086182e+01, 3.50586700e+01, 8.13633241e+03],\n",
       "       [6.25000000e-01, 1.19250000e+02, 8.43750000e+00, 8.12500000e-01,\n",
       "        3.00000000e+00, 1.68750000e+00, 1.05681250e+02, 1.90537500e+02,\n",
       "        6.92937500e+01, 5.39500000e+01, 3.53525000e+03, 2.30000000e+02,\n",
       "        1.10812500e+01, 1.66875000e+01, 2.10625000e+01, 3.49976875e+04]])"
      ]
     },
     "execution_count": 15,
     "metadata": {},
     "output_type": "execute_result"
    }
   ],
   "source": [
    "gm.means_"
   ]
  },
  {
   "cell_type": "code",
   "execution_count": 16,
   "metadata": {},
   "outputs": [
    {
     "data": {
      "text/plain": [
       "array([0, 0, 0, 0, 0, 0, 0, 0, 0, 0, 0, 0, 0, 0, 0, 2, 2, 2, 1, 1, 1, 1,\n",
       "       1, 1, 1, 1, 1, 1, 1, 0, 1, 1, 1, 1, 1, 1, 1, 1, 1, 1, 0, 0, 1, 0,\n",
       "       0, 0, 0, 2, 2, 2, 1, 1, 1, 1, 1, 0, 0, 0, 0, 1, 1, 1, 1, 1, 1, 0,\n",
       "       0, 0, 2, 2, 2, 2, 2, 2, 2, 0, 1, 1, 1, 1, 0, 0, 0, 0, 0, 1, 1, 1,\n",
       "       1, 1, 1, 1, 1, 1, 1, 1, 1, 1, 1, 1, 1, 0, 0, 0, 0, 0, 0, 0, 0, 0,\n",
       "       0, 0, 0, 0, 0, 0, 0, 0, 1, 1, 1, 1, 1, 1, 0, 0, 2, 2, 2, 0, 1, 1,\n",
       "       0, 0, 0, 0, 0, 0, 1, 1, 1, 1, 1, 1, 1, 1, 1, 1, 1, 1, 1, 1, 1, 1,\n",
       "       1, 1, 1, 1, 1, 1, 1, 1, 1, 1, 1, 1, 1, 1, 1, 0, 1, 0, 0, 1, 1, 1,\n",
       "       1, 1, 0, 0, 0, 0, 1, 1, 1, 1, 1, 1, 1, 1, 1, 1, 0, 1, 0, 0, 0, 0,\n",
       "       0, 0, 0, 0, 0, 0, 0], dtype=int64)"
      ]
     },
     "execution_count": 16,
     "metadata": {},
     "output_type": "execute_result"
    }
   ],
   "source": [
    "gm.predict(X)"
   ]
  },
  {
   "cell_type": "code",
   "execution_count": 17,
   "metadata": {
    "deletable": false,
    "nbgrader": {
     "checksum": "0ffeb79507fc6ce54042afdb9e1bf67c",
     "grade": true,
     "grade_id": "p3_test",
     "locked": true,
     "points": 1,
     "schema_version": 1,
     "solution": false
    }
   },
   "outputs": [],
   "source": [
    "# Perform Gaussian Mixture Modeling\n",
    "#GMM, clusters = GMM_fit(df_simple, rs=1, n_c=3)\n",
    "\n",
    "# Test Function\n",
    "# assert_is_instance(GMM, GaussianMixture)\n",
    "# assert_is_instance(clusters, np.ndarray)\n",
    "# assert_equal(GMM.n_components, 3)\n",
    "# assert_equal(clusters[0],1)"
   ]
  },
  {
   "cell_type": "markdown",
   "metadata": {
    "deletable": false,
    "editable": false
   },
   "source": [
    "**&copy; 2017: Robert J. Brunner at the University of Illinois.**\n",
    "\n",
    "This notebook is released under the [Creative Commons license CC BY-NC-SA 4.0][ll]. Any reproduction, adaptation, distribution, dissemination or making available of this notebook for commercial use is not allowed unless authorized in writing by the copyright holder.\n",
    "\n",
    "[ll]: https://creativecommons.org/licenses/by-nc-sa/4.0/legalcode "
   ]
  }
 ],
 "metadata": {
  "coursera": {
   "course_slug": "data-analytics-accountancy-2",
   "graded_item_id": "bJpHf",
   "launcher_item_id": "m7_assignment"
  },
  "kernelspec": {
   "display_name": "Python 3 (ipykernel)",
   "language": "python",
   "name": "python3"
  },
  "language_info": {
   "codemirror_mode": {
    "name": "ipython",
    "version": 3
   },
   "file_extension": ".py",
   "mimetype": "text/x-python",
   "name": "python",
   "nbconvert_exporter": "python",
   "pygments_lexer": "ipython3",
   "version": "3.8.8"
  }
 },
 "nbformat": 4,
 "nbformat_minor": 2
}
