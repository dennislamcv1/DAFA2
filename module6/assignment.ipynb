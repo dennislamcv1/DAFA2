{
 "cells": [
  {
   "cell_type": "markdown",
   "metadata": {
    "deletable": false,
    "editable": false
   },
   "source": [
    "# Module 6 Assignment\n",
    "\n",
    "A few things you should keep in mind when working on assignments:\n",
    "\n",
    "1. Make sure you fill in any place that says `# YOUR CODE HERE`. Do not write your answer anywhere else other than where it says `# YOUR CODE HERE`. Anything you write elsewhere will be removed or overwritten by the autograder.\n",
    "2. Before you submit your assignment, make sure everything runs as expected. Go to the menubar, select Kernel, and restart the kernel and run all cells (Restart & Run all).\n",
    "3. Do not change the title (i.e. file name) of this notebook.\n",
    "4. Make sure that you save your work (in the menubar, select File → Save and CheckPoint).\n",
    "5. All work must be your own, if you do use any code from another source (such as a course notebook or a website) you need to properly cite the source.\n",
    "\n",
    "-----"
   ]
  },
  {
   "cell_type": "code",
   "execution_count": 1,
   "metadata": {
    "deletable": false,
    "editable": false
   },
   "outputs": [],
   "source": [
    "%matplotlib inline\n",
    "\n",
    "import matplotlib.pyplot as plt\n",
    "import pandas as pd\n",
    "import numpy as np\n",
    "\n",
    "import sklearn.preprocessing\n",
    "from sklearn.model_selection import train_test_split\n",
    "\n",
    "import helper as hp\n",
    "from nose.tools import assert_equal, assert_almost_equal, assert_true, assert_is_instance"
   ]
  },
  {
   "cell_type": "markdown",
   "metadata": {
    "deletable": false,
    "editable": false
   },
   "source": [
    "-----\n",
    "\n",
    "## Loading Breast Cancer Data\n",
    "\n",
    "In this assignment, we will work with a breast cancer data set to make predictive models. Before we build a model, we first load the data into the assignment notebook, and randomly sample several rows. The second Code cell creates the features and labels.\n",
    "\n",
    "-----"
   ]
  },
  {
   "cell_type": "code",
   "execution_count": 2,
   "metadata": {},
   "outputs": [
    {
     "data": {
      "text/html": [
       "<div>\n",
       "<style scoped>\n",
       "    .dataframe tbody tr th:only-of-type {\n",
       "        vertical-align: middle;\n",
       "    }\n",
       "\n",
       "    .dataframe tbody tr th {\n",
       "        vertical-align: top;\n",
       "    }\n",
       "\n",
       "    .dataframe thead th {\n",
       "        text-align: right;\n",
       "    }\n",
       "</style>\n",
       "<table border=\"1\" class=\"dataframe\">\n",
       "  <thead>\n",
       "    <tr style=\"text-align: right;\">\n",
       "      <th></th>\n",
       "      <th>id</th>\n",
       "      <th>clump thickness</th>\n",
       "      <th>uniformity cell size</th>\n",
       "      <th>uniformity cell shape</th>\n",
       "      <th>marginal adhesion</th>\n",
       "      <th>epithelial cell size</th>\n",
       "      <th>bare nuclei</th>\n",
       "      <th>bland chromatin</th>\n",
       "      <th>normal nucleoli</th>\n",
       "      <th>mitoses</th>\n",
       "      <th>class</th>\n",
       "    </tr>\n",
       "  </thead>\n",
       "  <tbody>\n",
       "    <tr>\n",
       "      <th>634</th>\n",
       "      <td>1319609</td>\n",
       "      <td>3</td>\n",
       "      <td>1</td>\n",
       "      <td>1</td>\n",
       "      <td>2</td>\n",
       "      <td>3</td>\n",
       "      <td>4</td>\n",
       "      <td>1</td>\n",
       "      <td>1</td>\n",
       "      <td>1</td>\n",
       "      <td>2</td>\n",
       "    </tr>\n",
       "    <tr>\n",
       "      <th>537</th>\n",
       "      <td>1299924</td>\n",
       "      <td>3</td>\n",
       "      <td>2</td>\n",
       "      <td>2</td>\n",
       "      <td>2</td>\n",
       "      <td>2</td>\n",
       "      <td>1</td>\n",
       "      <td>4</td>\n",
       "      <td>2</td>\n",
       "      <td>1</td>\n",
       "      <td>2</td>\n",
       "    </tr>\n",
       "    <tr>\n",
       "      <th>594</th>\n",
       "      <td>636375</td>\n",
       "      <td>5</td>\n",
       "      <td>1</td>\n",
       "      <td>1</td>\n",
       "      <td>1</td>\n",
       "      <td>2</td>\n",
       "      <td>1</td>\n",
       "      <td>1</td>\n",
       "      <td>1</td>\n",
       "      <td>1</td>\n",
       "      <td>2</td>\n",
       "    </tr>\n",
       "    <tr>\n",
       "      <th>252</th>\n",
       "      <td>255644</td>\n",
       "      <td>10</td>\n",
       "      <td>5</td>\n",
       "      <td>8</td>\n",
       "      <td>10</td>\n",
       "      <td>3</td>\n",
       "      <td>10</td>\n",
       "      <td>5</td>\n",
       "      <td>1</td>\n",
       "      <td>3</td>\n",
       "      <td>4</td>\n",
       "    </tr>\n",
       "    <tr>\n",
       "      <th>545</th>\n",
       "      <td>1321942</td>\n",
       "      <td>5</td>\n",
       "      <td>1</td>\n",
       "      <td>1</td>\n",
       "      <td>1</td>\n",
       "      <td>2</td>\n",
       "      <td>1</td>\n",
       "      <td>3</td>\n",
       "      <td>1</td>\n",
       "      <td>1</td>\n",
       "      <td>2</td>\n",
       "    </tr>\n",
       "  </tbody>\n",
       "</table>\n",
       "</div>"
      ],
      "text/plain": [
       "          id  clump thickness  uniformity cell size  uniformity cell shape  \\\n",
       "634  1319609                3                     1                      1   \n",
       "537  1299924                3                     2                      2   \n",
       "594   636375                5                     1                      1   \n",
       "252   255644               10                     5                      8   \n",
       "545  1321942                5                     1                      1   \n",
       "\n",
       "     marginal adhesion  epithelial cell size  bare nuclei  bland chromatin  \\\n",
       "634                  2                     3            4                1   \n",
       "537                  2                     2            1                4   \n",
       "594                  1                     2            1                1   \n",
       "252                 10                     3           10                5   \n",
       "545                  1                     2            1                3   \n",
       "\n",
       "     normal nucleoli  mitoses  class  \n",
       "634                1        1      2  \n",
       "537                2        1      2  \n",
       "594                1        1      2  \n",
       "252                1        3      4  \n",
       "545                1        1      2  "
      ]
     },
     "execution_count": 2,
     "metadata": {},
     "output_type": "execute_result"
    }
   ],
   "source": [
    "# Load data\n",
    "df = pd.read_csv('breast-cancer-wisconsin.data')\n",
    "df.sample(5)"
   ]
  },
  {
   "cell_type": "code",
   "execution_count": 3,
   "metadata": {},
   "outputs": [],
   "source": [
    "# Create features and labels\n",
    "labels = df[['class']]\n",
    "features = df.drop('class', axis=1)"
   ]
  },
  {
   "cell_type": "code",
   "execution_count": 4,
   "metadata": {},
   "outputs": [
    {
     "data": {
      "text/plain": [
       "(          id  clump thickness  uniformity cell size  uniformity cell shape  \\\n",
       " 0    1000025                5                     1                      1   \n",
       " 1    1002945                5                     4                      4   \n",
       " 2    1015425                3                     1                      1   \n",
       " 3    1016277                6                     8                      8   \n",
       " 4    1017023                4                     1                      1   \n",
       " ..       ...              ...                   ...                    ...   \n",
       " 678   776715                3                     1                      1   \n",
       " 679   841769                2                     1                      1   \n",
       " 680   888820                5                    10                     10   \n",
       " 681   897471                4                     8                      6   \n",
       " 682   897471                4                     8                      8   \n",
       " \n",
       "      marginal adhesion  epithelial cell size  bare nuclei  bland chromatin  \\\n",
       " 0                    1                     2            1                3   \n",
       " 1                    5                     7           10                3   \n",
       " 2                    1                     2            2                3   \n",
       " 3                    1                     3            4                3   \n",
       " 4                    3                     2            1                3   \n",
       " ..                 ...                   ...          ...              ...   \n",
       " 678                  1                     3            2                1   \n",
       " 679                  1                     2            1                1   \n",
       " 680                  3                     7            3                8   \n",
       " 681                  4                     3            4               10   \n",
       " 682                  5                     4            5               10   \n",
       " \n",
       "      normal nucleoli  mitoses  \n",
       " 0                  1        1  \n",
       " 1                  2        1  \n",
       " 2                  1        1  \n",
       " 3                  7        1  \n",
       " 4                  1        1  \n",
       " ..               ...      ...  \n",
       " 678                1        1  \n",
       " 679                1        1  \n",
       " 680               10        2  \n",
       " 681                6        1  \n",
       " 682                4        1  \n",
       " \n",
       " [683 rows x 10 columns],\n",
       "      class\n",
       " 0        2\n",
       " 1        2\n",
       " 2        2\n",
       " 3        2\n",
       " 4        2\n",
       " ..     ...\n",
       " 678      2\n",
       " 679      2\n",
       " 680      4\n",
       " 681      4\n",
       " 682      4\n",
       " \n",
       " [683 rows x 1 columns])"
      ]
     },
     "execution_count": 4,
     "metadata": {},
     "output_type": "execute_result"
    }
   ],
   "source": [
    "features, labels"
   ]
  },
  {
   "cell_type": "code",
   "execution_count": null,
   "metadata": {
    "editable": false
   },
   "outputs": [],
   "source": [
    "# Load data\n",
    "df = pd.read_csv('./breast-cancer-wisconsin.data')\n",
    "df.sample(5)"
   ]
  },
  {
   "cell_type": "code",
   "execution_count": null,
   "metadata": {
    "editable": false
   },
   "outputs": [],
   "source": [
    "# Create features and labels\n",
    "labels = df['class']\n",
    "features = df.drop('class', axis=1)"
   ]
  },
  {
   "cell_type": "code",
   "execution_count": null,
   "metadata": {
    "deletable": false,
    "editable": false
   },
   "outputs": [],
   "source": [
    "# Load data\n",
    "df = pd.read_csv('./breast-cancer-wisconsin.data')\n",
    "df.sample(5)"
   ]
  },
  {
   "cell_type": "code",
   "execution_count": null,
   "metadata": {
    "deletable": false,
    "editable": false
   },
   "outputs": [],
   "source": [
    "# Create features and labels\n",
    "labels = df['class']\n",
    "features = df.drop('class', axis=1)"
   ]
  },
  {
   "cell_type": "code",
   "execution_count": null,
   "metadata": {
    "editable": false
   },
   "outputs": [],
   "source": [
    "# Load data\n",
    "df = pd.read_csv('./breast-cancer-wisconsin.data')\n",
    "df.sample(5)"
   ]
  },
  {
   "cell_type": "code",
   "execution_count": null,
   "metadata": {
    "editable": false
   },
   "outputs": [],
   "source": [
    "# Create features and labels\n",
    "labels = df['class']\n",
    "features = df.drop('class', axis=1)"
   ]
  },
  {
   "cell_type": "markdown",
   "metadata": {
    "deletable": false,
    "editable": false
   },
   "source": [
    "-----\n",
    "\n",
    "## Problem 1:  Variance Thresholding\n",
    "\n",
    "In this problem, you will create and implement a function to perform variance thresholding. Specifically, you must complete the following tasks:\n",
    "\n",
    "- Define a function called `VarianceThreshold` that excepts three arguments: `features`, `labels`, and `threshold`, in this order.\n",
    "- Create a [`Variance Threshold`](http://scikit-learn.org/stable/modules/generated/sklearn.feature_selection.VarianceThreshold.html) feature selector by using the scikit learn library.\n",
    "  - Use default parameters for this selector, except\n",
    "  - Set the `threshold` parameter to the `threshold` argument provided to your function.\n",
    "- Apply this feature selector to fit and transform the feature and label arguments provided to your function.\n",
    "- Return the selected features and variances of the individual features, in this order.  \n",
    "\n",
    "**TIP**: Notice that the function you write will be defined as `VarianceThreshold`. Thus, you should not import VarianceThreshold from sklearn.feature.selection. Instead, use the _dot_ operator to reference the `VarianceThreshold` class from the `feature_selection` module in the scikit learn library.\n",
    "\n",
    "-----"
   ]
  },
  {
   "cell_type": "code",
   "execution_count": 5,
   "metadata": {
    "deletable": false,
    "nbgrader": {
     "checksum": "c1adf230b46582457465f0b4221efad8",
     "grade": false,
     "grade_id": "p1_answer",
     "locked": false,
     "schema_version": 1,
     "solution": true
    }
   },
   "outputs": [],
   "source": [
    "from sklearn import feature_selection\n",
    "from sklearn.feature_selection import VarianceThreshold"
   ]
  },
  {
   "cell_type": "code",
   "execution_count": 6,
   "metadata": {},
   "outputs": [],
   "source": [
    "selector= VarianceThreshold(threshold=6)"
   ]
  },
  {
   "cell_type": "code",
   "execution_count": 7,
   "metadata": {},
   "outputs": [
    {
     "data": {
      "text/plain": [
       "array([[1000025,       5,       1, ...,       1,       1,       1],\n",
       "       [1002945,       5,       4, ...,       5,      10,       2],\n",
       "       [1015425,       3,       1, ...,       1,       2,       1],\n",
       "       ...,\n",
       "       [ 888820,       5,      10, ...,       3,       3,      10],\n",
       "       [ 897471,       4,       8, ...,       4,       4,       6],\n",
       "       [ 897471,       4,       8, ...,       5,       5,       4]],\n",
       "      dtype=int64)"
      ]
     },
     "execution_count": 7,
     "metadata": {},
     "output_type": "execute_result"
    }
   ],
   "source": [
    "features_new = selector.fit_transform(features)\n",
    "features_new"
   ]
  },
  {
   "cell_type": "code",
   "execution_count": 8,
   "metadata": {},
   "outputs": [
    {
     "ename": "ValueError",
     "evalue": "No feature in X meets the variance threshold 6.00000",
     "output_type": "error",
     "traceback": [
      "\u001b[1;31m---------------------------------------------------------------------------\u001b[0m",
      "\u001b[1;31mValueError\u001b[0m                                Traceback (most recent call last)",
      "\u001b[1;32m~\\AppData\\Local\\Temp/ipykernel_12732/467357083.py\u001b[0m in \u001b[0;36m<module>\u001b[1;34m\u001b[0m\n\u001b[1;32m----> 1\u001b[1;33m \u001b[0mselector\u001b[0m\u001b[1;33m.\u001b[0m\u001b[0mfit_transform\u001b[0m\u001b[1;33m(\u001b[0m\u001b[0mlabels\u001b[0m\u001b[1;33m)\u001b[0m\u001b[1;33m\u001b[0m\u001b[1;33m\u001b[0m\u001b[0m\n\u001b[0m",
      "\u001b[1;32mC:\\ProgramData\\Anaconda3\\lib\\site-packages\\sklearn\\base.py\u001b[0m in \u001b[0;36mfit_transform\u001b[1;34m(self, X, y, **fit_params)\u001b[0m\n\u001b[0;32m    850\u001b[0m         \u001b[1;32mif\u001b[0m \u001b[0my\u001b[0m \u001b[1;32mis\u001b[0m \u001b[1;32mNone\u001b[0m\u001b[1;33m:\u001b[0m\u001b[1;33m\u001b[0m\u001b[1;33m\u001b[0m\u001b[0m\n\u001b[0;32m    851\u001b[0m             \u001b[1;31m# fit method of arity 1 (unsupervised transformation)\u001b[0m\u001b[1;33m\u001b[0m\u001b[1;33m\u001b[0m\u001b[1;33m\u001b[0m\u001b[0m\n\u001b[1;32m--> 852\u001b[1;33m             \u001b[1;32mreturn\u001b[0m \u001b[0mself\u001b[0m\u001b[1;33m.\u001b[0m\u001b[0mfit\u001b[0m\u001b[1;33m(\u001b[0m\u001b[0mX\u001b[0m\u001b[1;33m,\u001b[0m \u001b[1;33m**\u001b[0m\u001b[0mfit_params\u001b[0m\u001b[1;33m)\u001b[0m\u001b[1;33m.\u001b[0m\u001b[0mtransform\u001b[0m\u001b[1;33m(\u001b[0m\u001b[0mX\u001b[0m\u001b[1;33m)\u001b[0m\u001b[1;33m\u001b[0m\u001b[1;33m\u001b[0m\u001b[0m\n\u001b[0m\u001b[0;32m    853\u001b[0m         \u001b[1;32melse\u001b[0m\u001b[1;33m:\u001b[0m\u001b[1;33m\u001b[0m\u001b[1;33m\u001b[0m\u001b[0m\n\u001b[0;32m    854\u001b[0m             \u001b[1;31m# fit method of arity 2 (supervised transformation)\u001b[0m\u001b[1;33m\u001b[0m\u001b[1;33m\u001b[0m\u001b[1;33m\u001b[0m\u001b[0m\n",
      "\u001b[1;32mC:\\ProgramData\\Anaconda3\\lib\\site-packages\\sklearn\\feature_selection\\_variance_threshold.py\u001b[0m in \u001b[0;36mfit\u001b[1;34m(self, X, y)\u001b[0m\n\u001b[0;32m    118\u001b[0m             \u001b[1;32mif\u001b[0m \u001b[0mX\u001b[0m\u001b[1;33m.\u001b[0m\u001b[0mshape\u001b[0m\u001b[1;33m[\u001b[0m\u001b[1;36m0\u001b[0m\u001b[1;33m]\u001b[0m \u001b[1;33m==\u001b[0m \u001b[1;36m1\u001b[0m\u001b[1;33m:\u001b[0m\u001b[1;33m\u001b[0m\u001b[1;33m\u001b[0m\u001b[0m\n\u001b[0;32m    119\u001b[0m                 \u001b[0mmsg\u001b[0m \u001b[1;33m+=\u001b[0m \u001b[1;34m\" (X contains only one sample)\"\u001b[0m\u001b[1;33m\u001b[0m\u001b[1;33m\u001b[0m\u001b[0m\n\u001b[1;32m--> 120\u001b[1;33m             \u001b[1;32mraise\u001b[0m \u001b[0mValueError\u001b[0m\u001b[1;33m(\u001b[0m\u001b[0mmsg\u001b[0m\u001b[1;33m.\u001b[0m\u001b[0mformat\u001b[0m\u001b[1;33m(\u001b[0m\u001b[0mself\u001b[0m\u001b[1;33m.\u001b[0m\u001b[0mthreshold\u001b[0m\u001b[1;33m)\u001b[0m\u001b[1;33m)\u001b[0m\u001b[1;33m\u001b[0m\u001b[1;33m\u001b[0m\u001b[0m\n\u001b[0m\u001b[0;32m    121\u001b[0m \u001b[1;33m\u001b[0m\u001b[0m\n\u001b[0;32m    122\u001b[0m         \u001b[1;32mreturn\u001b[0m \u001b[0mself\u001b[0m\u001b[1;33m\u001b[0m\u001b[1;33m\u001b[0m\u001b[0m\n",
      "\u001b[1;31mValueError\u001b[0m: No feature in X meets the variance threshold 6.00000"
     ]
    }
   ],
   "source": [
    "selector.fit_transform(labels)"
   ]
  },
  {
   "cell_type": "code",
   "execution_count": null,
   "metadata": {
    "deletable": false,
    "editable": false,
    "nbgrader": {
     "checksum": "c61901253d4ee739353663b85406b35b",
     "grade": true,
     "grade_id": "p1_test",
     "locked": true,
     "points": 1,
     "schema_version": 1,
     "solution": false
    }
   },
   "outputs": [],
   "source": [
    "# Select features and compute relevant variances\n",
    "selected_features, variences = VarianceThreshold(features, labels, 6)\n",
    "\n",
    "# Test function\n",
    "assert_equal(hp.vt_sf, selected_features.flatten().tolist())\n",
    "assert_equal(variences.flatten().tolist(), [384635052873.4785, 7.945044792052974,\n",
    "     9.381357331041032, 8.918538272070725, 8.193702316667704, 4.934873062387323,\n",
    "     13.258254749844047, 5.992227040723361, 9.30512830956357, 2.9977641487794995])"
   ]
  },
  {
   "cell_type": "markdown",
   "metadata": {
    "deletable": false,
    "editable": false
   },
   "source": [
    "-----\n",
    "\n",
    "## Problem 2: Recursive Feature Extraction\n",
    "In this problem, you will create and implement a function to perform recursive feature extraction. Specifically, you must complete the following tasks:\n",
    "\n",
    "- Write a function called `RFE` that accepts four parameters: features, label, rs, and n, in this order.\n",
    "- Create a random forest classifier and assign the `random_state` parameter for this estimator to the `rs` argument passed into your function.\n",
    "- Create a Recursive Feature Estimator (RFE) by using the scikit learn library's [RFE](http://scikit-learn.org/stable/modules/generated/sklearn.feature_selection.RFE.html#sklearn.feature_selection.RFE) object. \n",
    "  - Use the random forest classifier as the estimator for the `RFE` object.\n",
    "  - Assign the numbers of features to select parameter to `n`, which was passed as an argument into your function.\n",
    "- Fit the RFE estimator by using the features and labels.\n",
    "- Return the RFE model.\n",
    "\n",
    "When completing this problem, you should reference the **TIP** provided with Problem 1: Variance Thresholding.\n",
    "\n",
    "-----"
   ]
  },
  {
   "cell_type": "code",
   "execution_count": 9,
   "metadata": {
    "deletable": false,
    "nbgrader": {
     "checksum": "9063bc87d68825e874af438fbe48d8b4",
     "grade": false,
     "grade_id": "p2_answer",
     "locked": false,
     "schema_version": 1,
     "solution": true
    }
   },
   "outputs": [],
   "source": [
    "from sklearn import ensemble\n",
    "from sklearn.feature_selection import RFE\n",
    "from sklearn.ensemble import RandomForestClassifier"
   ]
  },
  {
   "cell_type": "code",
   "execution_count": 10,
   "metadata": {},
   "outputs": [],
   "source": [
    "model = RandomForestClassifier(random_state=0)"
   ]
  },
  {
   "cell_type": "code",
   "execution_count": 11,
   "metadata": {},
   "outputs": [],
   "source": [
    "selector = RFE(estimator=model, n_features_to_select=1, verbose=1)"
   ]
  },
  {
   "cell_type": "code",
   "execution_count": 12,
   "metadata": {},
   "outputs": [
    {
     "name": "stdout",
     "output_type": "stream",
     "text": [
      "Fitting estimator with 10 features.\n",
      "Fitting estimator with 9 features.\n"
     ]
    },
    {
     "name": "stderr",
     "output_type": "stream",
     "text": [
      "C:\\ProgramData\\Anaconda3\\lib\\site-packages\\sklearn\\feature_selection\\_rfe.py:283: DataConversionWarning: A column-vector y was passed when a 1d array was expected. Please change the shape of y to (n_samples,), for example using ravel().\n",
      "  estimator.fit(X[:, features], y, **fit_params)\n",
      "C:\\ProgramData\\Anaconda3\\lib\\site-packages\\sklearn\\feature_selection\\_rfe.py:283: DataConversionWarning: A column-vector y was passed when a 1d array was expected. Please change the shape of y to (n_samples,), for example using ravel().\n",
      "  estimator.fit(X[:, features], y, **fit_params)\n"
     ]
    },
    {
     "name": "stdout",
     "output_type": "stream",
     "text": [
      "Fitting estimator with 8 features.\n",
      "Fitting estimator with 7 features.\n"
     ]
    },
    {
     "name": "stderr",
     "output_type": "stream",
     "text": [
      "C:\\ProgramData\\Anaconda3\\lib\\site-packages\\sklearn\\feature_selection\\_rfe.py:283: DataConversionWarning: A column-vector y was passed when a 1d array was expected. Please change the shape of y to (n_samples,), for example using ravel().\n",
      "  estimator.fit(X[:, features], y, **fit_params)\n",
      "C:\\ProgramData\\Anaconda3\\lib\\site-packages\\sklearn\\feature_selection\\_rfe.py:283: DataConversionWarning: A column-vector y was passed when a 1d array was expected. Please change the shape of y to (n_samples,), for example using ravel().\n",
      "  estimator.fit(X[:, features], y, **fit_params)\n"
     ]
    },
    {
     "name": "stdout",
     "output_type": "stream",
     "text": [
      "Fitting estimator with 6 features.\n",
      "Fitting estimator with 5 features.\n"
     ]
    },
    {
     "name": "stderr",
     "output_type": "stream",
     "text": [
      "C:\\ProgramData\\Anaconda3\\lib\\site-packages\\sklearn\\feature_selection\\_rfe.py:283: DataConversionWarning: A column-vector y was passed when a 1d array was expected. Please change the shape of y to (n_samples,), for example using ravel().\n",
      "  estimator.fit(X[:, features], y, **fit_params)\n",
      "C:\\ProgramData\\Anaconda3\\lib\\site-packages\\sklearn\\feature_selection\\_rfe.py:283: DataConversionWarning: A column-vector y was passed when a 1d array was expected. Please change the shape of y to (n_samples,), for example using ravel().\n",
      "  estimator.fit(X[:, features], y, **fit_params)\n"
     ]
    },
    {
     "name": "stdout",
     "output_type": "stream",
     "text": [
      "Fitting estimator with 4 features.\n",
      "Fitting estimator with 3 features.\n"
     ]
    },
    {
     "name": "stderr",
     "output_type": "stream",
     "text": [
      "C:\\ProgramData\\Anaconda3\\lib\\site-packages\\sklearn\\feature_selection\\_rfe.py:283: DataConversionWarning: A column-vector y was passed when a 1d array was expected. Please change the shape of y to (n_samples,), for example using ravel().\n",
      "  estimator.fit(X[:, features], y, **fit_params)\n",
      "C:\\ProgramData\\Anaconda3\\lib\\site-packages\\sklearn\\feature_selection\\_rfe.py:283: DataConversionWarning: A column-vector y was passed when a 1d array was expected. Please change the shape of y to (n_samples,), for example using ravel().\n",
      "  estimator.fit(X[:, features], y, **fit_params)\n"
     ]
    },
    {
     "name": "stdout",
     "output_type": "stream",
     "text": [
      "Fitting estimator with 2 features.\n"
     ]
    },
    {
     "name": "stderr",
     "output_type": "stream",
     "text": [
      "C:\\ProgramData\\Anaconda3\\lib\\site-packages\\sklearn\\feature_selection\\_rfe.py:283: DataConversionWarning: A column-vector y was passed when a 1d array was expected. Please change the shape of y to (n_samples,), for example using ravel().\n",
      "  estimator.fit(X[:, features], y, **fit_params)\n",
      "C:\\ProgramData\\Anaconda3\\lib\\site-packages\\sklearn\\feature_selection\\_rfe.py:310: DataConversionWarning: A column-vector y was passed when a 1d array was expected. Please change the shape of y to (n_samples,), for example using ravel().\n",
      "  self.estimator_.fit(X[:, features], y, **fit_params)\n"
     ]
    }
   ],
   "source": [
    "rfe1 = selector.fit(features,labels)"
   ]
  },
  {
   "cell_type": "code",
   "execution_count": 13,
   "metadata": {},
   "outputs": [
    {
     "data": {
      "text/plain": [
       "array([False, False,  True, False, False, False, False, False, False,\n",
       "       False])"
      ]
     },
     "execution_count": 13,
     "metadata": {},
     "output_type": "execute_result"
    }
   ],
   "source": [
    "rfe1.support_"
   ]
  },
  {
   "cell_type": "code",
   "execution_count": 14,
   "metadata": {},
   "outputs": [
    {
     "data": {
      "text/plain": [
       "array([ 9,  7,  1,  2,  8,  4,  3,  5,  6, 10])"
      ]
     },
     "execution_count": 14,
     "metadata": {},
     "output_type": "execute_result"
    }
   ],
   "source": [
    "rfe1.ranking_"
   ]
  },
  {
   "cell_type": "code",
   "execution_count": null,
   "metadata": {
    "deletable": false,
    "editable": false,
    "nbgrader": {
     "checksum": "8fce8d00d03fc319e156ab8c53360527",
     "grade": true,
     "grade_id": "p2_test",
     "locked": true,
     "points": 1,
     "schema_version": 1,
     "solution": false
    }
   },
   "outputs": [],
   "source": [
    "# Create RFE estimator\n",
    "rfe1 = RFE(features, labels, rs=0, n=1)\n",
    "\n",
    "# Test function results\n",
    "assert_equal(rfe1.ranking_.tolist(), [9, 7, 2, 1, 8, 5, 4, 3, 6, 10])\n",
    "\n",
    "for i in range(1, len(features.columns)+1):\n",
    "    rfe = RFE(features, labels, rs=0, n=i)\n",
    "    print ('Performing Recursive Feature Selection. Choosing', i, 'features.')\n",
    "    if i == 1:\n",
    "        assert_equal(rfe.ranking_.tolist(), [9, 7, 2, 1, 8, 5, 4, 3, 6, 10])\n",
    "        assert_equal(rfe.support_.tolist(), [False, False, False, True, False, \n",
    "                                             False, False, False, False, False])\n",
    "    elif i == 2:\n",
    "        assert_equal(rfe.ranking_.tolist(), [8, 6, 1, 1, 7, 4, 3, 2, 5, 9])\n",
    "        assert_equal(rfe.support_.tolist(), [False, False, True, True, False, \n",
    "                                             False, False, False, False, False])\n",
    "    elif i == 3:\n",
    "        assert_equal(rfe.ranking_.tolist(), [7, 5, 1, 1, 6, 3, 2, 1, 4, 8])\n",
    "        assert_equal(rfe.support_.tolist(), [False, False, True, True, False, \n",
    "                                             False, False, True, False, False])\n",
    "    elif i == 4:\n",
    "        assert_equal(rfe.ranking_.tolist(), [6, 4, 1, 1, 5, 2, 1, 1, 3, 7])\n",
    "        assert_equal(rfe.support_.tolist(), [False, False, True, True, False, \n",
    "                                             False, True, True, False, False])\n",
    "    elif i == 5:\n",
    "        assert_equal(rfe.ranking_.tolist(), [5, 3, 1, 1, 4, 1, 1, 1, 2, 6])\n",
    "        assert_equal(rfe.support_.tolist(), [False, False, True, True, False, \n",
    "                                             True, True, True, False, False])\n",
    "    elif i == 6:\n",
    "        assert_equal(rfe.ranking_.tolist(), [4, 2, 1, 1, 3, 1, 1, 1, 1, 5])\n",
    "        assert_equal(rfe.support_.tolist(), [False, False, True, True, False, \n",
    "                                             True, True, True, True, False])\n",
    "    elif i == 7:\n",
    "        assert_equal(rfe.ranking_.tolist(), [3, 1, 1, 1, 2, 1, 1, 1, 1, 4])\n",
    "        assert_equal(rfe.support_.tolist(), [False, True, True, True, False, True, \n",
    "                                             True, True, True, False])\n",
    "    elif i == 8:\n",
    "        assert_equal(rfe.ranking_.tolist(), [2, 1, 1, 1, 1, 1, 1, 1, 1, 3])\n",
    "        assert_equal(rfe.support_.tolist(), [False, True, True, True, True, True, \n",
    "                                             True, True, True, False])\n",
    "    elif i == 9:\n",
    "        assert_equal(rfe.ranking_.tolist(), [1, 1, 1, 1, 1, 1, 1, 1, 1, 2])\n",
    "        assert_equal(rfe.support_.tolist(), [True, True, True, True, True, True, \n",
    "                                             True, True, True, False])\n",
    "    else:\n",
    "        assert_equal(rfe.ranking_.tolist(), [1, 1, 1, 1, 1, 1, 1, 1, 1, 1])\n",
    "        assert_equal(rfe.support_.tolist(), [True, True, True, True, True, True, \n",
    "                                             True, True, True, True])\n"
   ]
  },
  {
   "cell_type": "markdown",
   "metadata": {
    "deletable": false,
    "editable": false
   },
   "source": [
    "-----\n",
    "\n",
    "For the final problem below, you will use the car data to relate car price to the car specifications. In the following Code cells, we first load these data and sample several instances, before cleaning the data for non-numeric features, and finally, extracting features (`X`) and labels (`y`).\n",
    "\n",
    "-----"
   ]
  },
  {
   "cell_type": "code",
   "execution_count": null,
   "metadata": {
    "deletable": false,
    "editable": false
   },
   "outputs": [],
   "source": [
    "# Load data\n",
    "df = pd.read_csv('./imports-85.data')\n",
    "df.sample(5)"
   ]
  },
  {
   "cell_type": "code",
   "execution_count": 15,
   "metadata": {},
   "outputs": [
    {
     "data": {
      "text/html": [
       "<div>\n",
       "<style scoped>\n",
       "    .dataframe tbody tr th:only-of-type {\n",
       "        vertical-align: middle;\n",
       "    }\n",
       "\n",
       "    .dataframe tbody tr th {\n",
       "        vertical-align: top;\n",
       "    }\n",
       "\n",
       "    .dataframe thead th {\n",
       "        text-align: right;\n",
       "    }\n",
       "</style>\n",
       "<table border=\"1\" class=\"dataframe\">\n",
       "  <thead>\n",
       "    <tr style=\"text-align: right;\">\n",
       "      <th></th>\n",
       "      <th>symboling</th>\n",
       "      <th>normalized-losses</th>\n",
       "      <th>make</th>\n",
       "      <th>fuel-type</th>\n",
       "      <th>aspiration</th>\n",
       "      <th>num-of-doors</th>\n",
       "      <th>body-style</th>\n",
       "      <th>drive-wheels</th>\n",
       "      <th>'engine-location'</th>\n",
       "      <th>wheel-base</th>\n",
       "      <th>...</th>\n",
       "      <th>engine-size</th>\n",
       "      <th>fuel-system</th>\n",
       "      <th>bore</th>\n",
       "      <th>stroke</th>\n",
       "      <th>compression-ratio'</th>\n",
       "      <th>horsepower</th>\n",
       "      <th>peak-rpm</th>\n",
       "      <th>city-mpg</th>\n",
       "      <th>highway</th>\n",
       "      <th>price</th>\n",
       "    </tr>\n",
       "  </thead>\n",
       "  <tbody>\n",
       "    <tr>\n",
       "      <th>0</th>\n",
       "      <td>3</td>\n",
       "      <td>122</td>\n",
       "      <td>0</td>\n",
       "      <td>1</td>\n",
       "      <td>std</td>\n",
       "      <td>2.0</td>\n",
       "      <td>4</td>\n",
       "      <td>rwd</td>\n",
       "      <td>front</td>\n",
       "      <td>88.6</td>\n",
       "      <td>...</td>\n",
       "      <td>130</td>\n",
       "      <td>mpfi</td>\n",
       "      <td>3.47</td>\n",
       "      <td>2.68</td>\n",
       "      <td>9.0</td>\n",
       "      <td>111</td>\n",
       "      <td>5000</td>\n",
       "      <td>21</td>\n",
       "      <td>27</td>\n",
       "      <td>13495.0</td>\n",
       "    </tr>\n",
       "    <tr>\n",
       "      <th>190</th>\n",
       "      <td>3</td>\n",
       "      <td>256</td>\n",
       "      <td>20</td>\n",
       "      <td>1</td>\n",
       "      <td>std</td>\n",
       "      <td>2.0</td>\n",
       "      <td>3</td>\n",
       "      <td>fwd</td>\n",
       "      <td>front</td>\n",
       "      <td>94.5</td>\n",
       "      <td>...</td>\n",
       "      <td>109</td>\n",
       "      <td>mpfi</td>\n",
       "      <td>3.19</td>\n",
       "      <td>3.40</td>\n",
       "      <td>8.5</td>\n",
       "      <td>90</td>\n",
       "      <td>5500</td>\n",
       "      <td>24</td>\n",
       "      <td>29</td>\n",
       "      <td>9980.0</td>\n",
       "    </tr>\n",
       "    <tr>\n",
       "      <th>30</th>\n",
       "      <td>2</td>\n",
       "      <td>137</td>\n",
       "      <td>5</td>\n",
       "      <td>1</td>\n",
       "      <td>std</td>\n",
       "      <td>2.0</td>\n",
       "      <td>3</td>\n",
       "      <td>fwd</td>\n",
       "      <td>front</td>\n",
       "      <td>86.6</td>\n",
       "      <td>...</td>\n",
       "      <td>92</td>\n",
       "      <td>1bbl</td>\n",
       "      <td>2.91</td>\n",
       "      <td>3.41</td>\n",
       "      <td>9.6</td>\n",
       "      <td>58</td>\n",
       "      <td>4800</td>\n",
       "      <td>49</td>\n",
       "      <td>54</td>\n",
       "      <td>6479.0</td>\n",
       "    </tr>\n",
       "    <tr>\n",
       "      <th>1</th>\n",
       "      <td>3</td>\n",
       "      <td>122</td>\n",
       "      <td>0</td>\n",
       "      <td>1</td>\n",
       "      <td>std</td>\n",
       "      <td>2.0</td>\n",
       "      <td>4</td>\n",
       "      <td>rwd</td>\n",
       "      <td>front</td>\n",
       "      <td>88.6</td>\n",
       "      <td>...</td>\n",
       "      <td>130</td>\n",
       "      <td>mpfi</td>\n",
       "      <td>3.47</td>\n",
       "      <td>2.68</td>\n",
       "      <td>9.0</td>\n",
       "      <td>111</td>\n",
       "      <td>5000</td>\n",
       "      <td>21</td>\n",
       "      <td>27</td>\n",
       "      <td>16500.0</td>\n",
       "    </tr>\n",
       "    <tr>\n",
       "      <th>197</th>\n",
       "      <td>-1</td>\n",
       "      <td>74</td>\n",
       "      <td>21</td>\n",
       "      <td>1</td>\n",
       "      <td>std</td>\n",
       "      <td>4.0</td>\n",
       "      <td>1</td>\n",
       "      <td>rwd</td>\n",
       "      <td>front</td>\n",
       "      <td>104.3</td>\n",
       "      <td>...</td>\n",
       "      <td>141</td>\n",
       "      <td>mpfi</td>\n",
       "      <td>3.78</td>\n",
       "      <td>3.15</td>\n",
       "      <td>9.5</td>\n",
       "      <td>114</td>\n",
       "      <td>5400</td>\n",
       "      <td>24</td>\n",
       "      <td>28</td>\n",
       "      <td>16515.0</td>\n",
       "    </tr>\n",
       "  </tbody>\n",
       "</table>\n",
       "<p>5 rows × 26 columns</p>\n",
       "</div>"
      ],
      "text/plain": [
       "     symboling  normalized-losses  make  fuel-type aspiration  num-of-doors  \\\n",
       "0            3                122     0          1        std           2.0   \n",
       "190          3                256    20          1        std           2.0   \n",
       "30           2                137     5          1        std           2.0   \n",
       "1            3                122     0          1        std           2.0   \n",
       "197         -1                 74    21          1        std           4.0   \n",
       "\n",
       "     body-style drive-wheels 'engine-location'  wheel-base  ...  engine-size  \\\n",
       "0             4          rwd             front        88.6  ...          130   \n",
       "190           3          fwd             front        94.5  ...          109   \n",
       "30            3          fwd             front        86.6  ...           92   \n",
       "1             4          rwd             front        88.6  ...          130   \n",
       "197           1          rwd             front       104.3  ...          141   \n",
       "\n",
       "     fuel-system  bore  stroke compression-ratio' horsepower  peak-rpm  \\\n",
       "0           mpfi  3.47    2.68                9.0        111      5000   \n",
       "190         mpfi  3.19    3.40                8.5         90      5500   \n",
       "30          1bbl  2.91    3.41                9.6         58      4800   \n",
       "1           mpfi  3.47    2.68                9.0        111      5000   \n",
       "197         mpfi  3.78    3.15                9.5        114      5400   \n",
       "\n",
       "    city-mpg highway    price  \n",
       "0         21      27  13495.0  \n",
       "190       24      29   9980.0  \n",
       "30        49      54   6479.0  \n",
       "1         21      27  16500.0  \n",
       "197       24      28  16515.0  \n",
       "\n",
       "[5 rows x 26 columns]"
      ]
     },
     "execution_count": 15,
     "metadata": {},
     "output_type": "execute_result"
    }
   ],
   "source": [
    "# Load data\n",
    "df = pd.read_csv('imports-85.data')\n",
    "df.sample(5)"
   ]
  },
  {
   "cell_type": "code",
   "execution_count": 16,
   "metadata": {
    "deletable": false,
    "editable": false
   },
   "outputs": [
    {
     "data": {
      "text/html": [
       "<div>\n",
       "<style scoped>\n",
       "    .dataframe tbody tr th:only-of-type {\n",
       "        vertical-align: middle;\n",
       "    }\n",
       "\n",
       "    .dataframe tbody tr th {\n",
       "        vertical-align: top;\n",
       "    }\n",
       "\n",
       "    .dataframe thead th {\n",
       "        text-align: right;\n",
       "    }\n",
       "</style>\n",
       "<table border=\"1\" class=\"dataframe\">\n",
       "  <thead>\n",
       "    <tr style=\"text-align: right;\">\n",
       "      <th></th>\n",
       "      <th>symboling</th>\n",
       "      <th>normalized-losses</th>\n",
       "      <th>make</th>\n",
       "      <th>fuel-type</th>\n",
       "      <th>num-of-doors</th>\n",
       "      <th>body-style</th>\n",
       "      <th>wheel-base</th>\n",
       "      <th>length</th>\n",
       "      <th>width</th>\n",
       "      <th>height</th>\n",
       "      <th>curb-weight</th>\n",
       "      <th>engine-size</th>\n",
       "      <th>compression-ratio'</th>\n",
       "      <th>city-mpg</th>\n",
       "      <th>highway</th>\n",
       "      <th>price</th>\n",
       "    </tr>\n",
       "  </thead>\n",
       "  <tbody>\n",
       "    <tr>\n",
       "      <th>0</th>\n",
       "      <td>3</td>\n",
       "      <td>122</td>\n",
       "      <td>0</td>\n",
       "      <td>1</td>\n",
       "      <td>2.0</td>\n",
       "      <td>4</td>\n",
       "      <td>88.6</td>\n",
       "      <td>168.8</td>\n",
       "      <td>64.1</td>\n",
       "      <td>48.8</td>\n",
       "      <td>2548</td>\n",
       "      <td>130</td>\n",
       "      <td>9.0</td>\n",
       "      <td>21</td>\n",
       "      <td>27</td>\n",
       "      <td>13495.0</td>\n",
       "    </tr>\n",
       "    <tr>\n",
       "      <th>1</th>\n",
       "      <td>3</td>\n",
       "      <td>122</td>\n",
       "      <td>0</td>\n",
       "      <td>1</td>\n",
       "      <td>2.0</td>\n",
       "      <td>4</td>\n",
       "      <td>88.6</td>\n",
       "      <td>168.8</td>\n",
       "      <td>64.1</td>\n",
       "      <td>48.8</td>\n",
       "      <td>2548</td>\n",
       "      <td>130</td>\n",
       "      <td>9.0</td>\n",
       "      <td>21</td>\n",
       "      <td>27</td>\n",
       "      <td>16500.0</td>\n",
       "    </tr>\n",
       "    <tr>\n",
       "      <th>2</th>\n",
       "      <td>1</td>\n",
       "      <td>122</td>\n",
       "      <td>0</td>\n",
       "      <td>1</td>\n",
       "      <td>2.0</td>\n",
       "      <td>3</td>\n",
       "      <td>94.5</td>\n",
       "      <td>171.2</td>\n",
       "      <td>65.5</td>\n",
       "      <td>52.4</td>\n",
       "      <td>2823</td>\n",
       "      <td>152</td>\n",
       "      <td>9.0</td>\n",
       "      <td>19</td>\n",
       "      <td>26</td>\n",
       "      <td>16500.0</td>\n",
       "    </tr>\n",
       "    <tr>\n",
       "      <th>3</th>\n",
       "      <td>2</td>\n",
       "      <td>164</td>\n",
       "      <td>1</td>\n",
       "      <td>1</td>\n",
       "      <td>4.0</td>\n",
       "      <td>2</td>\n",
       "      <td>99.8</td>\n",
       "      <td>176.6</td>\n",
       "      <td>66.2</td>\n",
       "      <td>54.3</td>\n",
       "      <td>2337</td>\n",
       "      <td>109</td>\n",
       "      <td>10.0</td>\n",
       "      <td>24</td>\n",
       "      <td>30</td>\n",
       "      <td>13950.0</td>\n",
       "    </tr>\n",
       "    <tr>\n",
       "      <th>4</th>\n",
       "      <td>2</td>\n",
       "      <td>164</td>\n",
       "      <td>1</td>\n",
       "      <td>1</td>\n",
       "      <td>4.0</td>\n",
       "      <td>2</td>\n",
       "      <td>99.4</td>\n",
       "      <td>176.6</td>\n",
       "      <td>66.4</td>\n",
       "      <td>54.3</td>\n",
       "      <td>2824</td>\n",
       "      <td>136</td>\n",
       "      <td>8.0</td>\n",
       "      <td>18</td>\n",
       "      <td>22</td>\n",
       "      <td>17450.0</td>\n",
       "    </tr>\n",
       "  </tbody>\n",
       "</table>\n",
       "</div>"
      ],
      "text/plain": [
       "   symboling  normalized-losses  make  fuel-type  num-of-doors  body-style  \\\n",
       "0          3                122     0          1           2.0           4   \n",
       "1          3                122     0          1           2.0           4   \n",
       "2          1                122     0          1           2.0           3   \n",
       "3          2                164     1          1           4.0           2   \n",
       "4          2                164     1          1           4.0           2   \n",
       "\n",
       "   wheel-base  length  width  height  curb-weight  engine-size  \\\n",
       "0        88.6   168.8   64.1    48.8         2548          130   \n",
       "1        88.6   168.8   64.1    48.8         2548          130   \n",
       "2        94.5   171.2   65.5    52.4         2823          152   \n",
       "3        99.8   176.6   66.2    54.3         2337          109   \n",
       "4        99.4   176.6   66.4    54.3         2824          136   \n",
       "\n",
       "   compression-ratio'  city-mpg  highway    price  \n",
       "0                 9.0        21       27  13495.0  \n",
       "1                 9.0        21       27  16500.0  \n",
       "2                 9.0        19       26  16500.0  \n",
       "3                10.0        24       30  13950.0  \n",
       "4                 8.0        18       22  17450.0  "
      ]
     },
     "execution_count": 16,
     "metadata": {},
     "output_type": "execute_result"
    }
   ],
   "source": [
    "# Eliminate non-numeric features\n",
    "df_simple = df[df.columns[df.dtypes!=object]]\n",
    "df_simple.head()"
   ]
  },
  {
   "cell_type": "code",
   "execution_count": 17,
   "metadata": {
    "deletable": false,
    "editable": false
   },
   "outputs": [],
   "source": [
    "# Create feature and label arrays\n",
    "X = df_simple.drop(\"price\", axis=1)\n",
    "y = np.ravel(df_simple[\"price\"])"
   ]
  },
  {
   "cell_type": "code",
   "execution_count": 18,
   "metadata": {},
   "outputs": [
    {
     "data": {
      "text/plain": [
       "(     symboling  normalized-losses  make  fuel-type  num-of-doors  body-style  \\\n",
       " 0            3                122     0          1           2.0           4   \n",
       " 1            3                122     0          1           2.0           4   \n",
       " 2            1                122     0          1           2.0           3   \n",
       " 3            2                164     1          1           4.0           2   \n",
       " 4            2                164     1          1           4.0           2   \n",
       " ..         ...                ...   ...        ...           ...         ...   \n",
       " 200         -1                 95    21          1           4.0           2   \n",
       " 201         -1                 95    21          1           4.0           2   \n",
       " 202         -1                 95    21          1           4.0           2   \n",
       " 203         -1                 95    21          0           4.0           2   \n",
       " 204         -1                 95    21          1           4.0           2   \n",
       " \n",
       "      wheel-base  length  width  height  curb-weight  engine-size  \\\n",
       " 0          88.6   168.8   64.1    48.8         2548          130   \n",
       " 1          88.6   168.8   64.1    48.8         2548          130   \n",
       " 2          94.5   171.2   65.5    52.4         2823          152   \n",
       " 3          99.8   176.6   66.2    54.3         2337          109   \n",
       " 4          99.4   176.6   66.4    54.3         2824          136   \n",
       " ..          ...     ...    ...     ...          ...          ...   \n",
       " 200       109.1   188.8   68.9    55.5         2952          141   \n",
       " 201       109.1   188.8   68.8    55.5         3049          141   \n",
       " 202       109.1   188.8   68.9    55.5         3012          173   \n",
       " 203       109.1   188.8   68.9    55.5         3217          145   \n",
       " 204       109.1   188.8   68.9    55.5         3062          141   \n",
       " \n",
       "      compression-ratio'  city-mpg  highway  \n",
       " 0                   9.0        21       27  \n",
       " 1                   9.0        21       27  \n",
       " 2                   9.0        19       26  \n",
       " 3                  10.0        24       30  \n",
       " 4                   8.0        18       22  \n",
       " ..                  ...       ...      ...  \n",
       " 200                 9.5        23       28  \n",
       " 201                 8.7        19       25  \n",
       " 202                 8.8        18       23  \n",
       " 203                23.0        26       27  \n",
       " 204                 9.5        19       25  \n",
       " \n",
       " [205 rows x 15 columns],\n",
       " array([13495.        , 16500.        , 16500.        , 13950.        ,\n",
       "        17450.        , 15250.        , 17710.        , 18920.        ,\n",
       "        23875.        , 13207.12935323, 16430.        , 16925.        ,\n",
       "        20970.        , 21105.        , 24565.        , 30760.        ,\n",
       "        41315.        , 36880.        ,  5151.        ,  6295.        ,\n",
       "         6575.        ,  5572.        ,  6377.        ,  7957.        ,\n",
       "         6229.        ,  6692.        ,  7609.        ,  8558.        ,\n",
       "         8921.        , 12964.        ,  6479.        ,  6855.        ,\n",
       "         5399.        ,  6529.        ,  7129.        ,  7295.        ,\n",
       "         7295.        ,  7895.        ,  9095.        ,  8845.        ,\n",
       "        10295.        , 12945.        , 10345.        ,  6785.        ,\n",
       "        13207.12935323, 13207.12935323, 11048.        , 32250.        ,\n",
       "        35550.        , 36000.        ,  5195.        ,  6095.        ,\n",
       "         6795.        ,  6695.        ,  7395.        , 10945.        ,\n",
       "        11845.        , 13645.        , 15645.        ,  8845.        ,\n",
       "         8495.        , 10595.        , 10245.        , 10795.        ,\n",
       "        11245.        , 18280.        , 18344.        , 25552.        ,\n",
       "        28248.        , 28176.        , 31600.        , 34184.        ,\n",
       "        35056.        , 40960.        , 45400.        , 16503.        ,\n",
       "         5389.        ,  6189.        ,  6669.        ,  7689.        ,\n",
       "         9959.        ,  8499.        , 12629.        , 14869.        ,\n",
       "        14489.        ,  6989.        ,  8189.        ,  9279.        ,\n",
       "         9279.        ,  5499.        ,  7099.        ,  6649.        ,\n",
       "         6849.        ,  7349.        ,  7299.        ,  7799.        ,\n",
       "         7499.        ,  7999.        ,  8249.        ,  8949.        ,\n",
       "         9549.        , 13499.        , 14399.        , 13499.        ,\n",
       "        17199.        , 19699.        , 18399.        , 11900.        ,\n",
       "        13200.        , 12440.        , 13860.        , 15580.        ,\n",
       "        16900.        , 16695.        , 17075.        , 16630.        ,\n",
       "        17950.        , 18150.        ,  5572.        ,  7957.        ,\n",
       "         6229.        ,  6692.        ,  7609.        ,  8921.        ,\n",
       "        12764.        , 22018.        , 32528.        , 34028.        ,\n",
       "        37028.        , 13207.12935323,  9295.        ,  9895.        ,\n",
       "        11850.        , 12170.        , 15040.        , 15510.        ,\n",
       "        18150.        , 18620.        ,  5118.        ,  7053.        ,\n",
       "         7603.        ,  7126.        ,  7775.        ,  9960.        ,\n",
       "         9233.        , 11259.        ,  7463.        , 10198.        ,\n",
       "         8013.        , 11694.        ,  5348.        ,  6338.        ,\n",
       "         6488.        ,  6918.        ,  7898.        ,  8778.        ,\n",
       "         6938.        ,  7198.        ,  7898.        ,  7788.        ,\n",
       "         7738.        ,  8358.        ,  9258.        ,  8058.        ,\n",
       "         8238.        ,  9298.        ,  9538.        ,  8449.        ,\n",
       "         9639.        ,  9989.        , 11199.        , 11549.        ,\n",
       "        17669.        ,  8948.        , 10698.        ,  9988.        ,\n",
       "        10898.        , 11248.        , 16558.        , 15998.        ,\n",
       "        15690.        , 15750.        ,  7775.        ,  7975.        ,\n",
       "         7995.        ,  8195.        ,  8495.        ,  9495.        ,\n",
       "         9995.        , 11595.        ,  9980.        , 13295.        ,\n",
       "        13845.        , 12290.        , 12940.        , 13415.        ,\n",
       "        15985.        , 16515.        , 18420.        , 18950.        ,\n",
       "        16845.        , 19045.        , 21485.        , 22470.        ,\n",
       "        22625.        ]))"
      ]
     },
     "execution_count": 18,
     "metadata": {},
     "output_type": "execute_result"
    }
   ],
   "source": [
    "X,y"
   ]
  },
  {
   "cell_type": "markdown",
   "metadata": {
    "deletable": false,
    "editable": false
   },
   "source": [
    "-----\n",
    "\n",
    "## Problem 3: Principal Component Analysis\n",
    "\n",
    "For this problem, you will complete the function `fit_pca`, provided below, to perform principal component analysis on a provided DataFrame, `df`. To complete this task, you must create an instance of the `PCA` estimator in the scikit learn library, specifying the number of components to keep (which is passed into the `fit_pca` function via the `n_c` parameter). Using this estimator, you should fit and transform the DataFrame to compute a NumPy array that contains the reduced set of features.\n",
    "\n",
    "-----"
   ]
  },
  {
   "cell_type": "code",
   "execution_count": 19,
   "metadata": {
    "deletable": false,
    "nbgrader": {
     "checksum": "c7cc69554aacc51c0123ba67921b7f42",
     "grade": false,
     "grade_id": "p3_answer",
     "locked": false,
     "schema_version": 1,
     "solution": true
    }
   },
   "outputs": [],
   "source": [
    "from sklearn.decomposition import PCA\n",
    "\n",
    "def fit_pca(df, n_c):\n",
    "    \"\"\"\n",
    "    Perform principal component analysis\n",
    "    \n",
    "    Parameters\n",
    "    ----------\n",
    "    df: A pandas DataFrame containing the relevant features\n",
    "    n_c: The number of principal components to keep\n",
    "    \n",
    "    Returns\n",
    "    -------\n",
    "    reduced: A NumPy array containing the PCA reduced features\n",
    "    \"\"\"\n",
    "    \n",
    "    ### YOUR CODE HERE\n",
    "    \n",
    "    return reduced"
   ]
  },
  {
   "cell_type": "code",
   "execution_count": 21,
   "metadata": {},
   "outputs": [],
   "source": [
    "pca_data = PCA(n_components=1)"
   ]
  },
  {
   "cell_type": "code",
   "execution_count": 22,
   "metadata": {},
   "outputs": [],
   "source": [
    "pca_new = pca_data.fit_transform(X,y)"
   ]
  },
  {
   "cell_type": "code",
   "execution_count": 23,
   "metadata": {},
   "outputs": [
    {
     "data": {
      "text/plain": [
       "-7.4757833217416865"
      ]
     },
     "execution_count": 23,
     "metadata": {},
     "output_type": "execute_result"
    }
   ],
   "source": [
    "pca_new[0].sum()"
   ]
  },
  {
   "cell_type": "code",
   "execution_count": null,
   "metadata": {
    "deletable": false,
    "editable": false,
    "nbgrader": {
     "checksum": "86835a466f3181aab85908d560f0f3ab",
     "grade": true,
     "grade_id": "p3_test",
     "locked": true,
     "points": 1,
     "schema_version": 1,
     "solution": false
    }
   },
   "outputs": [],
   "source": [
    "# Compute reduced features on car data\n",
    "pca_data = fit_pca(X,n_c=X.shape[1])\n",
    "\n",
    "# Test function\n",
    "assert_almost_equal(sum(pca_data[0]), 0.60937, places=4)\n",
    "assert_equal(pca_data.shape, (205, 15))"
   ]
  },
  {
   "cell_type": "markdown",
   "metadata": {
    "deletable": false,
    "editable": false
   },
   "source": [
    "**&copy; 2017: Robert J. Brunner at the University of Illinois.**\n",
    "\n",
    "This notebook is released under the [Creative Commons license CC BY-NC-SA 4.0][ll]. Any reproduction, adaptation, distribution, dissemination or making available of this notebook for commercial use is not allowed unless authorized in writing by the copyright holder.\n",
    "\n",
    "[ll]: https://creativecommons.org/licenses/by-nc-sa/4.0/legalcode "
   ]
  }
 ],
 "metadata": {
  "coursera": {
   "course_slug": "data-analytics-accountancy-2",
   "graded_item_id": "JDlsJ",
   "launcher_item_id": "m6_assignment"
  },
  "kernelspec": {
   "display_name": "Python 3 (ipykernel)",
   "language": "python",
   "name": "python3"
  },
  "language_info": {
   "codemirror_mode": {
    "name": "ipython",
    "version": 3
   },
   "file_extension": ".py",
   "mimetype": "text/x-python",
   "name": "python",
   "nbconvert_exporter": "python",
   "pygments_lexer": "ipython3",
   "version": "3.8.8"
  }
 },
 "nbformat": 4,
 "nbformat_minor": 2
}
