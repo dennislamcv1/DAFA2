{
 "cells": [
  {
   "cell_type": "markdown",
   "metadata": {
    "deletable": false,
    "editable": false
   },
   "source": [
    "# Module 4 Assignment\n",
    "\n",
    "A few things you should keep in mind when working on assignments:\n",
    "\n",
    "1. Make sure you fill in any place that says `# YOUR CODE HERE`. Do not write your answer anywhere else other than where it says `# YOUR CODE HERE`. Anything you write elsewhere will be removed or overwritten by the autograder.\n",
    "2. Before you submit your assignment, make sure everything runs as expected. Go to the menubar, select Kernel, and restart the kernel and run all cells (Restart & Run all).\n",
    "3. Do not change the title (i.e. file name) of this notebook.\n",
    "4. Make sure that you save your work (in the menubar, select File → Save and CheckPoint).\n",
    "5. All work must be your own, if you do use any code from another source (such as a course notebook or a website) you need to properly cite the source.\n",
    "\n",
    "-----"
   ]
  },
  {
   "cell_type": "code",
   "execution_count": 1,
   "metadata": {
    "deletable": false,
    "editable": false
   },
   "outputs": [],
   "source": [
    "%matplotlib inline\n",
    "\n",
    "import pandas as pd\n",
    "import numpy as np\n",
    "\n",
    "import matplotlib.pyplot as plt\n",
    "import seaborn as sns\n",
    "\n",
    "from sklearn.model_selection import train_test_split\n",
    "\n",
    "from nose.tools import assert_equal, assert_almost_equal, assert_true, assert_is_instance"
   ]
  },
  {
   "cell_type": "markdown",
   "metadata": {
    "deletable": false,
    "editable": false
   },
   "source": [
    "-----\n",
    "\n",
    "## Loading Breast Cancer Data\n",
    "\n",
    "In this assignment, we will work with a breast cancer data set to make predictive models. Before we build a model, we first load the data into the assignment notebook, and randomly sample several rows. The second Code cell splits the DataFrame into a training and testing data set, respectively, before creating the features and labels to use for our classification task.\n",
    "\n",
    "-----"
   ]
  },
  {
   "cell_type": "code",
   "execution_count": 2,
   "metadata": {},
   "outputs": [
    {
     "data": {
      "text/html": [
       "<div>\n",
       "<style scoped>\n",
       "    .dataframe tbody tr th:only-of-type {\n",
       "        vertical-align: middle;\n",
       "    }\n",
       "\n",
       "    .dataframe tbody tr th {\n",
       "        vertical-align: top;\n",
       "    }\n",
       "\n",
       "    .dataframe thead th {\n",
       "        text-align: right;\n",
       "    }\n",
       "</style>\n",
       "<table border=\"1\" class=\"dataframe\">\n",
       "  <thead>\n",
       "    <tr style=\"text-align: right;\">\n",
       "      <th></th>\n",
       "      <th>id</th>\n",
       "      <th>clump thickness</th>\n",
       "      <th>uniformity cell size</th>\n",
       "      <th>uniformity cell shape</th>\n",
       "      <th>marginal adhesion</th>\n",
       "      <th>epithelial cell size</th>\n",
       "      <th>bare nuclei</th>\n",
       "      <th>bland chromatin</th>\n",
       "      <th>normal nucleoli</th>\n",
       "      <th>mitoses</th>\n",
       "      <th>class</th>\n",
       "    </tr>\n",
       "  </thead>\n",
       "  <tbody>\n",
       "    <tr>\n",
       "      <th>369</th>\n",
       "      <td>1022257</td>\n",
       "      <td>2</td>\n",
       "      <td>1</td>\n",
       "      <td>1</td>\n",
       "      <td>1</td>\n",
       "      <td>2</td>\n",
       "      <td>1</td>\n",
       "      <td>1</td>\n",
       "      <td>1</td>\n",
       "      <td>1</td>\n",
       "      <td>2</td>\n",
       "    </tr>\n",
       "    <tr>\n",
       "      <th>155</th>\n",
       "      <td>1196915</td>\n",
       "      <td>10</td>\n",
       "      <td>7</td>\n",
       "      <td>7</td>\n",
       "      <td>4</td>\n",
       "      <td>5</td>\n",
       "      <td>10</td>\n",
       "      <td>5</td>\n",
       "      <td>7</td>\n",
       "      <td>2</td>\n",
       "      <td>4</td>\n",
       "    </tr>\n",
       "    <tr>\n",
       "      <th>330</th>\n",
       "      <td>822829</td>\n",
       "      <td>7</td>\n",
       "      <td>6</td>\n",
       "      <td>4</td>\n",
       "      <td>8</td>\n",
       "      <td>10</td>\n",
       "      <td>10</td>\n",
       "      <td>9</td>\n",
       "      <td>5</td>\n",
       "      <td>3</td>\n",
       "      <td>4</td>\n",
       "    </tr>\n",
       "    <tr>\n",
       "      <th>161</th>\n",
       "      <td>1198128</td>\n",
       "      <td>10</td>\n",
       "      <td>8</td>\n",
       "      <td>10</td>\n",
       "      <td>10</td>\n",
       "      <td>6</td>\n",
       "      <td>1</td>\n",
       "      <td>3</td>\n",
       "      <td>1</td>\n",
       "      <td>10</td>\n",
       "      <td>4</td>\n",
       "    </tr>\n",
       "    <tr>\n",
       "      <th>545</th>\n",
       "      <td>1321942</td>\n",
       "      <td>5</td>\n",
       "      <td>1</td>\n",
       "      <td>1</td>\n",
       "      <td>1</td>\n",
       "      <td>2</td>\n",
       "      <td>1</td>\n",
       "      <td>3</td>\n",
       "      <td>1</td>\n",
       "      <td>1</td>\n",
       "      <td>2</td>\n",
       "    </tr>\n",
       "  </tbody>\n",
       "</table>\n",
       "</div>"
      ],
      "text/plain": [
       "          id  clump thickness  uniformity cell size  uniformity cell shape  \\\n",
       "369  1022257                2                     1                      1   \n",
       "155  1196915               10                     7                      7   \n",
       "330   822829                7                     6                      4   \n",
       "161  1198128               10                     8                     10   \n",
       "545  1321942                5                     1                      1   \n",
       "\n",
       "     marginal adhesion  epithelial cell size  bare nuclei  bland chromatin  \\\n",
       "369                  1                     2            1                1   \n",
       "155                  4                     5           10                5   \n",
       "330                  8                    10           10                9   \n",
       "161                 10                     6            1                3   \n",
       "545                  1                     2            1                3   \n",
       "\n",
       "     normal nucleoli  mitoses  class  \n",
       "369                1        1      2  \n",
       "155                7        2      4  \n",
       "330                5        3      4  \n",
       "161                1       10      4  \n",
       "545                1        1      2  "
      ]
     },
     "execution_count": 2,
     "metadata": {},
     "output_type": "execute_result"
    }
   ],
   "source": [
    "# Load data\n",
    "df = pd.read_csv('breast-cancer-wisconsin.data')\n",
    "df.sample(5)"
   ]
  },
  {
   "cell_type": "code",
   "execution_count": 3,
   "metadata": {},
   "outputs": [],
   "source": [
    "# Create features and labels\n",
    "\n",
    "y = df['class']\n",
    "X = df.drop('class', axis=1)\n",
    "\n",
    "# Split data into training and testing data sets\n",
    "X_train, X_test, y_train, y_test = train_test_split(X, y, test_size=0.3, random_state=0)"
   ]
  },
  {
   "cell_type": "code",
   "execution_count": null,
   "metadata": {
    "deletable": false,
    "editable": false
   },
   "outputs": [],
   "source": [
    "# Load data\n",
    "df = pd.read_csv('./breast-cancer-wisconsin.data')\n",
    "df.sample(5)"
   ]
  },
  {
   "cell_type": "code",
   "execution_count": null,
   "metadata": {
    "deletable": false,
    "editable": false
   },
   "outputs": [],
   "source": [
    "# Create features and labels\n",
    "\n",
    "y = df['class']\n",
    "X = df.drop('class', axis=1)\n",
    "\n",
    "# Split data into training and testing data sets\n",
    "X_train, X_test, y_train, y_test = train_test_split(X, y, test_size=0.3, random_state=0)"
   ]
  },
  {
   "cell_type": "markdown",
   "metadata": {
    "deletable": false,
    "editable": false
   },
   "source": [
    "-----\n",
    "\n",
    "## Problem 1: Create a Pipeline for Random Forest\n",
    "\n",
    "For this problem, you must complete the `rf_pipeline` function to create a new pipeline that contains random forest classifier. This classifier should be created by using the `n_estimators` and `rs` parameters.\n",
    "\n",
    "-----"
   ]
  },
  {
   "cell_type": "code",
   "execution_count": 5,
   "metadata": {
    "deletable": false,
    "nbgrader": {
     "checksum": "6b90d51ceb0eb77df52ca35a77a2b9f1",
     "grade": false,
     "grade_id": "p1_answer",
     "locked": false,
     "schema_version": 1,
     "solution": true
    }
   },
   "outputs": [],
   "source": [
    "from sklearn.ensemble import RandomForestClassifier\n",
    "from sklearn.pipeline import Pipeline\n",
    "\n",
    "def rf_pipeline(n_estimators, rs):\n",
    "    \"\"\"\"\n",
    "    Create a scikit learn pipeline that wraps a random forest classifier\n",
    "    \n",
    "    Inputs\n",
    "    ---------\n",
    "    n_estimators: the number of estimators used by the random forest\n",
    "    rs: the random state of the random forest, used for reproducibility\n",
    "    \n",
    "    Returns\n",
    "    -------\n",
    "    pipeline: an sklearn pipeline object\n",
    "    \"\"\"\n",
    "    \n",
    "    ### YOUR CODE HERE\n",
    "    \n",
    "    return pipeline"
   ]
  },
  {
   "cell_type": "code",
   "execution_count": 6,
   "metadata": {},
   "outputs": [],
   "source": [
    "rf = RandomForestClassifier(n_estimators=100, random_state=2)"
   ]
  },
  {
   "cell_type": "code",
   "execution_count": null,
   "metadata": {
    "deletable": false,
    "editable": false,
    "nbgrader": {
     "checksum": "f0d2f69b933a5445d4a858464fad15bc",
     "grade": true,
     "grade_id": "p1_test",
     "locked": true,
     "points": 1,
     "schema_version": 1,
     "solution": false
    }
   },
   "outputs": [],
   "source": [
    "# Call function to create a pipeline\n",
    "pl = rf_pipeline(100, 2)\n",
    "\n",
    "# Test the new pipeline\n",
    "assert_equal(str(type(pl)), \"<class 'sklearn.pipeline.Pipeline'>\")\n",
    "assert_equal(pl.steps[0][1].n_estimators, 100)\n",
    "assert_equal(pl.steps[0][1].random_state, 2)"
   ]
  },
  {
   "cell_type": "markdown",
   "metadata": {
    "deletable": false,
    "editable": false,
    "nbgrader": {
     "checksum": "36e9e4a0e444bbf6cf169409f0bde1e0",
     "grade": false,
     "grade_id": "cell-3a9a1e07f4750700",
     "locked": true,
     "schema_version": 1,
     "solution": false
    }
   },
   "source": [
    "-----\n",
    "\n",
    "## Problem 2: Compute the Average Cross Validation Score\n",
    "\n",
    "For this problem, you will finish the `rf_avg_crossval` function to compute the average (or mean) cross validation score for a random forest classifier. To perform the cross-validation, you should use the `StratifiedKFold` object within the scikit learn library. Specifically, you must complete the following tasks:\n",
    "\n",
    "1. Create the `StratifiedKFold` object, using the `n_splits` and `rs` parameters.\n",
    "2. Create a random forest pipeline, by using your solution to problem one above, and including the `n_estimators` and `rs` parameters.\n",
    "3. Compute the cross-validation scores for this pipeline, the training data, and the `StratifiedKFold` object.\n",
    "4. Compute the average cross validation score\n",
    "\n",
    "-----"
   ]
  },
  {
   "cell_type": "code",
   "execution_count": 7,
   "metadata": {
    "deletable": false,
    "nbgrader": {
     "checksum": "37958cf3432e411b560179a4c47ee6fd",
     "grade": false,
     "grade_id": "p2_answer",
     "locked": false,
     "schema_version": 1,
     "solution": true
    }
   },
   "outputs": [],
   "source": [
    "from sklearn.model_selection import StratifiedKFold, cross_val_score\n",
    "\n",
    "def rf_avg_crossval(rfp, X_train, y_train, \n",
    "                    n_estimators, n_splits, rs):\n",
    "    \"\"\"\"\n",
    "    Inputs\n",
    "    ---------\n",
    "    rfp: The rf_pipeline function you created in Problem 1\n",
    "    X_train: the training data\n",
    "    y_train: the training data labels\n",
    "    n_estimators: the number of estimators used by the random forest\n",
    "    rs: the random state of the random forest and of the cross validation,\n",
    "        used for reproducibility\n",
    "    \n",
    "    Returns\n",
    "    -------\n",
    "    mean_score: the average cross validation score of the random forest \n",
    "    \"\"\"\n",
    "    \n",
    "    ### YOUR CODE HERE\n",
    "    \n",
    "    return mean_score"
   ]
  },
  {
   "cell_type": "code",
   "execution_count": 8,
   "metadata": {},
   "outputs": [],
   "source": [
    "skf = StratifiedKFold(n_splits=5, random_state=2, shuffle=True)"
   ]
  },
  {
   "cell_type": "code",
   "execution_count": 9,
   "metadata": {},
   "outputs": [],
   "source": [
    "rf = RandomForestClassifier(n_estimators=10, random_state=2)"
   ]
  },
  {
   "cell_type": "code",
   "execution_count": 10,
   "metadata": {},
   "outputs": [
    {
     "data": {
      "text/plain": [
       "RandomForestClassifier(n_estimators=10, random_state=2)"
      ]
     },
     "execution_count": 10,
     "metadata": {},
     "output_type": "execute_result"
    }
   ],
   "source": [
    "rf.fit(X_train,y_train)"
   ]
  },
  {
   "cell_type": "code",
   "execution_count": 11,
   "metadata": {},
   "outputs": [
    {
     "data": {
      "text/plain": [
       "array([0.95121951, 0.97560976, 0.95121951, 0.92682927, 0.97560976])"
      ]
     },
     "execution_count": 11,
     "metadata": {},
     "output_type": "execute_result"
    }
   ],
   "source": [
    "cross_val_score(rf,X_test,y_test)"
   ]
  },
  {
   "cell_type": "code",
   "execution_count": 12,
   "metadata": {},
   "outputs": [
    {
     "data": {
      "text/plain": [
       "0.9560975609756097"
      ]
     },
     "execution_count": 12,
     "metadata": {},
     "output_type": "execute_result"
    }
   ],
   "source": [
    "cross_val_score(rf,X_test,y_test).mean()"
   ]
  },
  {
   "cell_type": "code",
   "execution_count": null,
   "metadata": {
    "deletable": false,
    "editable": false,
    "nbgrader": {
     "checksum": "933b2afb6100d43361e4d6846d03b27d",
     "grade": true,
     "grade_id": "p2_test",
     "locked": true,
     "points": 1,
     "schema_version": 1,
     "solution": false
    }
   },
   "outputs": [],
   "source": [
    "# Compute mean scores\n",
    "mean_score = rf_avg_crossval(rf_pipeline, X_train, y_train, 10, 5, 2)\n",
    "\n",
    "# Test mean scores\n",
    "assert_almost_equal(mean_score, 0.96236, places=4)"
   ]
  },
  {
   "cell_type": "markdown",
   "metadata": {
    "deletable": false,
    "editable": false
   },
   "source": [
    "-----\n",
    "\n",
    "## Problem 3: Random Grid Search\n",
    "\n",
    "For this problem, you will finish writing the `random_crossval` function, shown below, to complete the following tasks:\n",
    "\n",
    "1. Create a dictionary to map the `'rf__n_estimators'` key to the `n_estimators_array` value.\n",
    "1. Create a randomized search cross-validation estimator by using the scikit learn library. Be sure to pass or assign the following parameters when creating this estimator:\n",
    "  - `pl` random forest pipeline.\n",
    "  - The dictionary created in step one above assigned to the `param_distributions` parameter.\n",
    "  - `n_samples` parameter assigned to the `n_iter` parameter.\n",
    "  - `rs` assigned to the `random_state` parameter.\n",
    "\n",
    "1. Fit this estimator to the training data.\n",
    "1. Extract the best values from the randomized grid search as a dictionary.\n",
    "1. Return the dictionary containing the best parameters.\n",
    "\n",
    "-----"
   ]
  },
  {
   "cell_type": "code",
   "execution_count": 13,
   "metadata": {},
   "outputs": [],
   "source": [
    "from sklearn.ensemble import RandomForestClassifier\n",
    "rf = RandomForestClassifier(random_state=2)"
   ]
  },
  {
   "cell_type": "code",
   "execution_count": 14,
   "metadata": {
    "deletable": false,
    "nbgrader": {
     "checksum": "f0164e143ca26cc89149b657506f7b34",
     "grade": false,
     "grade_id": "p3_answer",
     "locked": false,
     "schema_version": 1,
     "solution": true
    }
   },
   "outputs": [],
   "source": [
    "from sklearn.model_selection import RandomizedSearchCV\n",
    "\n",
    "def random_crossval(pl, X_train, y_train, n_estimators_array, n_samples, rs):\n",
    "    \"\"\"\"\n",
    "    Uses a randomized grid search to determine the best parameters of a \n",
    "    specific the specified pipeline on a given test data set.\n",
    "    \n",
    "    Inputsb\n",
    "    ---------\n",
    "    pl: random forest pipeline\n",
    "    X_train: the training data\n",
    "    y_train: the trainig data lavels\n",
    "    n_estimators_array: a numpy array containing possible values for n_estimators\n",
    "    n_samples: the number of times the random cv will sample from n_estimators_array\n",
    "    rs: the random state of the random forest and of the cross validation,\n",
    "        used for reproducibility\n",
    "    \n",
    "    Returns\n",
    "    -------\n",
    "    best_params: a list of the best parameters from the randomized cross validation\n",
    "    \"\"\"\n",
    "    \n",
    "    ### YOUR CODE HERE\n",
    "    \n",
    "    return best_params"
   ]
  },
  {
   "cell_type": "code",
   "execution_count": 15,
   "metadata": {},
   "outputs": [],
   "source": [
    "parameters = {'n_estimators':np.arange(1,100,1)\n",
    "             }"
   ]
  },
  {
   "cell_type": "code",
   "execution_count": 16,
   "metadata": {},
   "outputs": [],
   "source": [
    "randm = RandomizedSearchCV(estimator=rf, param_distributions = parameters, cv = 5, n_iter = 10, \n",
    "                           n_jobs=-1, scoring=None)"
   ]
  },
  {
   "cell_type": "code",
   "execution_count": 17,
   "metadata": {},
   "outputs": [
    {
     "data": {
      "text/plain": [
       "RandomizedSearchCV(cv=5, estimator=RandomForestClassifier(random_state=2),\n",
       "                   n_jobs=-1,\n",
       "                   param_distributions={'n_estimators': array([ 1,  2,  3,  4,  5,  6,  7,  8,  9, 10, 11, 12, 13, 14, 15, 16, 17,\n",
       "       18, 19, 20, 21, 22, 23, 24, 25, 26, 27, 28, 29, 30, 31, 32, 33, 34,\n",
       "       35, 36, 37, 38, 39, 40, 41, 42, 43, 44, 45, 46, 47, 48, 49, 50, 51,\n",
       "       52, 53, 54, 55, 56, 57, 58, 59, 60, 61, 62, 63, 64, 65, 66, 67, 68,\n",
       "       69, 70, 71, 72, 73, 74, 75, 76, 77, 78, 79, 80, 81, 82, 83, 84, 85,\n",
       "       86, 87, 88, 89, 90, 91, 92, 93, 94, 95, 96, 97, 98, 99])})"
      ]
     },
     "execution_count": 17,
     "metadata": {},
     "output_type": "execute_result"
    }
   ],
   "source": [
    "randm.fit(X_train,y_train)"
   ]
  },
  {
   "cell_type": "code",
   "execution_count": 18,
   "metadata": {},
   "outputs": [
    {
     "data": {
      "text/plain": [
       "{'n_estimators': 32}"
      ]
     },
     "execution_count": 18,
     "metadata": {},
     "output_type": "execute_result"
    }
   ],
   "source": [
    "randm.best_params_"
   ]
  },
  {
   "cell_type": "code",
   "execution_count": null,
   "metadata": {
    "deletable": false,
    "editable": false,
    "nbgrader": {
     "checksum": "beb41ab9b4f45318a08cf4e49e230b44",
     "grade": true,
     "grade_id": "p3_test",
     "locked": true,
     "points": 1,
     "schema_version": 1,
     "solution": false
    }
   },
   "outputs": [],
   "source": [
    "# Perform Grid Search to get best parameters\n",
    "params_list = random_crossval(pl, X_train, y_train, \n",
    "                              np.arange(1,100,1), 10, 2)\n",
    "\n",
    "# Test grid search results\n",
    "assert_equal(params_list[\"rf__n_estimators\"], 31)"
   ]
  },
  {
   "cell_type": "markdown",
   "metadata": {
    "deletable": false,
    "editable": false
   },
   "source": [
    "-----\n",
    "\n",
    "## Loading Car Price Data\n",
    "\n",
    "For the rest of this assignment, we will work with a car price data set to make regressive models between car specifications and car price. Before we build a model, we first load the data into the assignment notebook, and randomly sample several rows. The second Code cell selects only numeric columns to simplify the analysis, and displays the first few instances.\n",
    "\n",
    "-----"
   ]
  },
  {
   "cell_type": "code",
   "execution_count": 19,
   "metadata": {},
   "outputs": [
    {
     "data": {
      "text/html": [
       "<div>\n",
       "<style scoped>\n",
       "    .dataframe tbody tr th:only-of-type {\n",
       "        vertical-align: middle;\n",
       "    }\n",
       "\n",
       "    .dataframe tbody tr th {\n",
       "        vertical-align: top;\n",
       "    }\n",
       "\n",
       "    .dataframe thead th {\n",
       "        text-align: right;\n",
       "    }\n",
       "</style>\n",
       "<table border=\"1\" class=\"dataframe\">\n",
       "  <thead>\n",
       "    <tr style=\"text-align: right;\">\n",
       "      <th></th>\n",
       "      <th>symboling</th>\n",
       "      <th>normalized-losses</th>\n",
       "      <th>make</th>\n",
       "      <th>fuel-type</th>\n",
       "      <th>aspiration</th>\n",
       "      <th>num-of-doors</th>\n",
       "      <th>body-style</th>\n",
       "      <th>drive-wheels</th>\n",
       "      <th>'engine-location'</th>\n",
       "      <th>wheel-base</th>\n",
       "      <th>...</th>\n",
       "      <th>engine-size</th>\n",
       "      <th>fuel-system</th>\n",
       "      <th>bore</th>\n",
       "      <th>stroke</th>\n",
       "      <th>compression-ratio'</th>\n",
       "      <th>horsepower</th>\n",
       "      <th>peak-rpm</th>\n",
       "      <th>city-mpg</th>\n",
       "      <th>highway</th>\n",
       "      <th>price</th>\n",
       "    </tr>\n",
       "  </thead>\n",
       "  <tbody>\n",
       "    <tr>\n",
       "      <th>153</th>\n",
       "      <td>0</td>\n",
       "      <td>77</td>\n",
       "      <td>19</td>\n",
       "      <td>1</td>\n",
       "      <td>std</td>\n",
       "      <td>4.0</td>\n",
       "      <td>1</td>\n",
       "      <td>fwd</td>\n",
       "      <td>front</td>\n",
       "      <td>95.7</td>\n",
       "      <td>...</td>\n",
       "      <td>92</td>\n",
       "      <td>2bbl</td>\n",
       "      <td>3.05</td>\n",
       "      <td>3.03</td>\n",
       "      <td>9.0</td>\n",
       "      <td>62</td>\n",
       "      <td>4800</td>\n",
       "      <td>31</td>\n",
       "      <td>37</td>\n",
       "      <td>6918.0</td>\n",
       "    </tr>\n",
       "    <tr>\n",
       "      <th>198</th>\n",
       "      <td>-2</td>\n",
       "      <td>103</td>\n",
       "      <td>21</td>\n",
       "      <td>1</td>\n",
       "      <td>turbo</td>\n",
       "      <td>4.0</td>\n",
       "      <td>2</td>\n",
       "      <td>rwd</td>\n",
       "      <td>front</td>\n",
       "      <td>104.3</td>\n",
       "      <td>...</td>\n",
       "      <td>130</td>\n",
       "      <td>mpfi</td>\n",
       "      <td>3.62</td>\n",
       "      <td>3.15</td>\n",
       "      <td>7.5</td>\n",
       "      <td>162</td>\n",
       "      <td>5100</td>\n",
       "      <td>17</td>\n",
       "      <td>22</td>\n",
       "      <td>18420.0</td>\n",
       "    </tr>\n",
       "    <tr>\n",
       "      <th>82</th>\n",
       "      <td>3</td>\n",
       "      <td>122</td>\n",
       "      <td>11</td>\n",
       "      <td>1</td>\n",
       "      <td>turbo</td>\n",
       "      <td>2.0</td>\n",
       "      <td>3</td>\n",
       "      <td>fwd</td>\n",
       "      <td>front</td>\n",
       "      <td>95.9</td>\n",
       "      <td>...</td>\n",
       "      <td>156</td>\n",
       "      <td>spdi</td>\n",
       "      <td>3.58</td>\n",
       "      <td>3.86</td>\n",
       "      <td>7.0</td>\n",
       "      <td>145</td>\n",
       "      <td>5000</td>\n",
       "      <td>19</td>\n",
       "      <td>24</td>\n",
       "      <td>12629.0</td>\n",
       "    </tr>\n",
       "    <tr>\n",
       "      <th>148</th>\n",
       "      <td>0</td>\n",
       "      <td>85</td>\n",
       "      <td>18</td>\n",
       "      <td>1</td>\n",
       "      <td>std</td>\n",
       "      <td>4.0</td>\n",
       "      <td>1</td>\n",
       "      <td>4wd</td>\n",
       "      <td>front</td>\n",
       "      <td>96.9</td>\n",
       "      <td>...</td>\n",
       "      <td>108</td>\n",
       "      <td>2bbl</td>\n",
       "      <td>3.62</td>\n",
       "      <td>2.64</td>\n",
       "      <td>9.0</td>\n",
       "      <td>82</td>\n",
       "      <td>4800</td>\n",
       "      <td>23</td>\n",
       "      <td>29</td>\n",
       "      <td>8013.0</td>\n",
       "    </tr>\n",
       "    <tr>\n",
       "      <th>49</th>\n",
       "      <td>0</td>\n",
       "      <td>122</td>\n",
       "      <td>7</td>\n",
       "      <td>1</td>\n",
       "      <td>std</td>\n",
       "      <td>2.0</td>\n",
       "      <td>2</td>\n",
       "      <td>rwd</td>\n",
       "      <td>front</td>\n",
       "      <td>102.0</td>\n",
       "      <td>...</td>\n",
       "      <td>326</td>\n",
       "      <td>mpfi</td>\n",
       "      <td>3.54</td>\n",
       "      <td>2.76</td>\n",
       "      <td>11.5</td>\n",
       "      <td>262</td>\n",
       "      <td>5000</td>\n",
       "      <td>13</td>\n",
       "      <td>17</td>\n",
       "      <td>36000.0</td>\n",
       "    </tr>\n",
       "  </tbody>\n",
       "</table>\n",
       "<p>5 rows × 26 columns</p>\n",
       "</div>"
      ],
      "text/plain": [
       "     symboling  normalized-losses  make  fuel-type aspiration  num-of-doors  \\\n",
       "153          0                 77    19          1        std           4.0   \n",
       "198         -2                103    21          1      turbo           4.0   \n",
       "82           3                122    11          1      turbo           2.0   \n",
       "148          0                 85    18          1        std           4.0   \n",
       "49           0                122     7          1        std           2.0   \n",
       "\n",
       "     body-style drive-wheels 'engine-location'  wheel-base  ...  engine-size  \\\n",
       "153           1          fwd             front        95.7  ...           92   \n",
       "198           2          rwd             front       104.3  ...          130   \n",
       "82            3          fwd             front        95.9  ...          156   \n",
       "148           1          4wd             front        96.9  ...          108   \n",
       "49            2          rwd             front       102.0  ...          326   \n",
       "\n",
       "     fuel-system  bore  stroke compression-ratio' horsepower  peak-rpm  \\\n",
       "153         2bbl  3.05    3.03                9.0         62      4800   \n",
       "198         mpfi  3.62    3.15                7.5        162      5100   \n",
       "82          spdi  3.58    3.86                7.0        145      5000   \n",
       "148         2bbl  3.62    2.64                9.0         82      4800   \n",
       "49          mpfi  3.54    2.76               11.5        262      5000   \n",
       "\n",
       "    city-mpg highway    price  \n",
       "153       31      37   6918.0  \n",
       "198       17      22  18420.0  \n",
       "82        19      24  12629.0  \n",
       "148       23      29   8013.0  \n",
       "49        13      17  36000.0  \n",
       "\n",
       "[5 rows x 26 columns]"
      ]
     },
     "execution_count": 19,
     "metadata": {},
     "output_type": "execute_result"
    }
   ],
   "source": [
    "df = pd.read_csv('imports-85.data')\n",
    "df.sample(5)"
   ]
  },
  {
   "cell_type": "code",
   "execution_count": 20,
   "metadata": {},
   "outputs": [
    {
     "data": {
      "text/html": [
       "<div>\n",
       "<style scoped>\n",
       "    .dataframe tbody tr th:only-of-type {\n",
       "        vertical-align: middle;\n",
       "    }\n",
       "\n",
       "    .dataframe tbody tr th {\n",
       "        vertical-align: top;\n",
       "    }\n",
       "\n",
       "    .dataframe thead th {\n",
       "        text-align: right;\n",
       "    }\n",
       "</style>\n",
       "<table border=\"1\" class=\"dataframe\">\n",
       "  <thead>\n",
       "    <tr style=\"text-align: right;\">\n",
       "      <th></th>\n",
       "      <th>symboling</th>\n",
       "      <th>normalized-losses</th>\n",
       "      <th>make</th>\n",
       "      <th>fuel-type</th>\n",
       "      <th>num-of-doors</th>\n",
       "      <th>body-style</th>\n",
       "      <th>wheel-base</th>\n",
       "      <th>length</th>\n",
       "      <th>width</th>\n",
       "      <th>height</th>\n",
       "      <th>curb-weight</th>\n",
       "      <th>engine-size</th>\n",
       "      <th>compression-ratio'</th>\n",
       "      <th>city-mpg</th>\n",
       "      <th>highway</th>\n",
       "      <th>price</th>\n",
       "    </tr>\n",
       "  </thead>\n",
       "  <tbody>\n",
       "    <tr>\n",
       "      <th>0</th>\n",
       "      <td>3</td>\n",
       "      <td>122</td>\n",
       "      <td>0</td>\n",
       "      <td>1</td>\n",
       "      <td>2.0</td>\n",
       "      <td>4</td>\n",
       "      <td>88.6</td>\n",
       "      <td>168.8</td>\n",
       "      <td>64.1</td>\n",
       "      <td>48.8</td>\n",
       "      <td>2548</td>\n",
       "      <td>130</td>\n",
       "      <td>9.0</td>\n",
       "      <td>21</td>\n",
       "      <td>27</td>\n",
       "      <td>13495.0</td>\n",
       "    </tr>\n",
       "    <tr>\n",
       "      <th>1</th>\n",
       "      <td>3</td>\n",
       "      <td>122</td>\n",
       "      <td>0</td>\n",
       "      <td>1</td>\n",
       "      <td>2.0</td>\n",
       "      <td>4</td>\n",
       "      <td>88.6</td>\n",
       "      <td>168.8</td>\n",
       "      <td>64.1</td>\n",
       "      <td>48.8</td>\n",
       "      <td>2548</td>\n",
       "      <td>130</td>\n",
       "      <td>9.0</td>\n",
       "      <td>21</td>\n",
       "      <td>27</td>\n",
       "      <td>16500.0</td>\n",
       "    </tr>\n",
       "    <tr>\n",
       "      <th>2</th>\n",
       "      <td>1</td>\n",
       "      <td>122</td>\n",
       "      <td>0</td>\n",
       "      <td>1</td>\n",
       "      <td>2.0</td>\n",
       "      <td>3</td>\n",
       "      <td>94.5</td>\n",
       "      <td>171.2</td>\n",
       "      <td>65.5</td>\n",
       "      <td>52.4</td>\n",
       "      <td>2823</td>\n",
       "      <td>152</td>\n",
       "      <td>9.0</td>\n",
       "      <td>19</td>\n",
       "      <td>26</td>\n",
       "      <td>16500.0</td>\n",
       "    </tr>\n",
       "    <tr>\n",
       "      <th>3</th>\n",
       "      <td>2</td>\n",
       "      <td>164</td>\n",
       "      <td>1</td>\n",
       "      <td>1</td>\n",
       "      <td>4.0</td>\n",
       "      <td>2</td>\n",
       "      <td>99.8</td>\n",
       "      <td>176.6</td>\n",
       "      <td>66.2</td>\n",
       "      <td>54.3</td>\n",
       "      <td>2337</td>\n",
       "      <td>109</td>\n",
       "      <td>10.0</td>\n",
       "      <td>24</td>\n",
       "      <td>30</td>\n",
       "      <td>13950.0</td>\n",
       "    </tr>\n",
       "    <tr>\n",
       "      <th>4</th>\n",
       "      <td>2</td>\n",
       "      <td>164</td>\n",
       "      <td>1</td>\n",
       "      <td>1</td>\n",
       "      <td>4.0</td>\n",
       "      <td>2</td>\n",
       "      <td>99.4</td>\n",
       "      <td>176.6</td>\n",
       "      <td>66.4</td>\n",
       "      <td>54.3</td>\n",
       "      <td>2824</td>\n",
       "      <td>136</td>\n",
       "      <td>8.0</td>\n",
       "      <td>18</td>\n",
       "      <td>22</td>\n",
       "      <td>17450.0</td>\n",
       "    </tr>\n",
       "  </tbody>\n",
       "</table>\n",
       "</div>"
      ],
      "text/plain": [
       "   symboling  normalized-losses  make  fuel-type  num-of-doors  body-style  \\\n",
       "0          3                122     0          1           2.0           4   \n",
       "1          3                122     0          1           2.0           4   \n",
       "2          1                122     0          1           2.0           3   \n",
       "3          2                164     1          1           4.0           2   \n",
       "4          2                164     1          1           4.0           2   \n",
       "\n",
       "   wheel-base  length  width  height  curb-weight  engine-size  \\\n",
       "0        88.6   168.8   64.1    48.8         2548          130   \n",
       "1        88.6   168.8   64.1    48.8         2548          130   \n",
       "2        94.5   171.2   65.5    52.4         2823          152   \n",
       "3        99.8   176.6   66.2    54.3         2337          109   \n",
       "4        99.4   176.6   66.4    54.3         2824          136   \n",
       "\n",
       "   compression-ratio'  city-mpg  highway    price  \n",
       "0                 9.0        21       27  13495.0  \n",
       "1                 9.0        21       27  16500.0  \n",
       "2                 9.0        19       26  16500.0  \n",
       "3                10.0        24       30  13950.0  \n",
       "4                 8.0        18       22  17450.0  "
      ]
     },
     "execution_count": 20,
     "metadata": {},
     "output_type": "execute_result"
    }
   ],
   "source": [
    "df_simple = df[df.columns[df.dtypes!=object]]\n",
    "df_simple.head()"
   ]
  },
  {
   "cell_type": "code",
   "execution_count": null,
   "metadata": {
    "deletable": false,
    "editable": false
   },
   "outputs": [],
   "source": [
    "df = pd.read_csv('./imports-85.data')\n",
    "df.sample(5)"
   ]
  },
  {
   "cell_type": "code",
   "execution_count": null,
   "metadata": {
    "deletable": false,
    "editable": false
   },
   "outputs": [],
   "source": [
    "df_simple = df[df.columns[df.dtypes!=object]]\n",
    "df_simple.head()"
   ]
  },
  {
   "cell_type": "markdown",
   "metadata": {
    "deletable": false,
    "editable": false
   },
   "source": [
    "-----\n",
    "\n",
    "With the numeric data, we can now create our independent and dependent variables so that we can \n",
    "build a model that can predict the price of the car. After this is done, we split these data into a training and testing set.\n",
    "\n",
    "-----"
   ]
  },
  {
   "cell_type": "code",
   "execution_count": 21,
   "metadata": {
    "deletable": false,
    "editable": false
   },
   "outputs": [],
   "source": [
    "X = df_simple.drop(\"price\", axis=1)\n",
    "y = np.ravel(df_simple[\"price\"])\n",
    "X_train, X_test, y_train, y_test = train_test_split(X, y, test_size=0.3, random_state=0)"
   ]
  },
  {
   "cell_type": "code",
   "execution_count": 22,
   "metadata": {},
   "outputs": [
    {
     "data": {
      "text/plain": [
       "(     symboling  normalized-losses  make  fuel-type  num-of-doors  body-style  \\\n",
       " 40           0                 85     5          1           4.0           2   \n",
       " 60           0                115     8          1           4.0           2   \n",
       " 56           3                150     8          1           2.0           3   \n",
       " 101          0                128    12          1           4.0           2   \n",
       " 86           1                125    11          1           4.0           2   \n",
       " ..         ...                ...   ...        ...           ...         ...   \n",
       " 67          -1                 93     9          0           4.0           2   \n",
       " 192          0                122    20          0           4.0           2   \n",
       " 117          0                161    13          1           4.0           2   \n",
       " 47           0                145     7          1           4.0           2   \n",
       " 172          2                134    19          1           2.0           4   \n",
       " \n",
       "      wheel-base  length  width  height  curb-weight  engine-size  \\\n",
       " 40         96.5   175.4   62.5    54.1         2372          110   \n",
       " 60         98.8   177.8   66.5    55.5         2410          122   \n",
       " 56         95.3   169.0   65.7    49.6         2380           70   \n",
       " 101       100.4   181.7   66.5    55.1         3095          181   \n",
       " 86         96.3   172.4   65.4    51.6         2405          122   \n",
       " ..          ...     ...    ...     ...          ...          ...   \n",
       " 67        110.0   190.9   70.3    56.5         3515          183   \n",
       " 192       100.4   180.2   66.9    55.1         2579           97   \n",
       " 117       108.0   186.7   68.3    56.0         3130          134   \n",
       " 47        113.0   199.6   69.6    52.8         4066          258   \n",
       " 172        98.4   176.2   65.6    53.0         2975          146   \n",
       " \n",
       "      compression-ratio'  city-mpg  highway  \n",
       " 40                  9.0        27       33  \n",
       " 60                  8.6        26       32  \n",
       " 56                  9.4        17       23  \n",
       " 101                 9.0        17       22  \n",
       " 86                  8.5        25       32  \n",
       " ..                  ...       ...      ...  \n",
       " 67                 21.5        22       25  \n",
       " 192                23.0        33       38  \n",
       " 117                 7.0        18       24  \n",
       " 47                  8.1        15       19  \n",
       " 172                 9.3        24       30  \n",
       " \n",
       " [143 rows x 15 columns],\n",
       " array([10295.        ,  8495.        , 11845.        , 13499.        ,\n",
       "         8189.        ,  6295.        ,  8778.        ,  7999.        ,\n",
       "         7395.        ,  7995.        ,  6095.        ,  7053.        ,\n",
       "         7126.        , 16900.        ,  7499.        , 11900.        ,\n",
       "         7463.        , 13860.        , 16558.        , 24565.        ,\n",
       "         8558.        , 13200.        ,  8195.        , 32528.        ,\n",
       "        11048.        , 13295.        , 16845.        ,  9258.        ,\n",
       "        10245.        , 16500.        ,  8845.        ,  8921.        ,\n",
       "        12764.        ,  6785.        , 16430.        , 12440.        ,\n",
       "        40960.        , 15985.        ,  7775.        ,  5348.        ,\n",
       "         8249.        , 13950.        ,  7349.        ,  5572.        ,\n",
       "         7738.        , 18950.        ,  5195.        , 13495.        ,\n",
       "         7299.        , 17950.        ,  7799.        , 11245.        ,\n",
       "         9233.        , 12945.        , 28176.        , 36000.        ,\n",
       "        35550.        ,  6989.        , 21485.        , 21105.        ,\n",
       "         6918.        ,  7957.        ,  9980.        , 18620.        ,\n",
       "         6575.        , 30760.        ,  6669.        ,  9549.        ,\n",
       "         9538.        , 22470.        , 17710.        , 28248.        ,\n",
       "        14489.        ,  6692.        ,  7198.        ,  9495.        ,\n",
       "         7898.        ,  6649.        , 10898.        , 16925.        ,\n",
       "         7957.        , 14399.        ,  7295.        , 13645.        ,\n",
       "        18280.        , 16500.        ,  6229.        ,  8238.        ,\n",
       "        10345.        , 19699.        , 11850.        , 11248.        ,\n",
       "        36880.        ,  9095.        , 12170.        ,  6695.        ,\n",
       "         7788.        , 37028.        ,  7129.        ,  8921.        ,\n",
       "        17075.        ,  6338.        ,  6855.        ,  9639.        ,\n",
       "        34028.        , 15690.        ,  5399.        ,  8449.        ,\n",
       "         7775.        , 22625.        , 10198.        , 12964.        ,\n",
       "         8949.        , 12629.        ,  9988.        ,  7689.        ,\n",
       "        16630.        ,  8013.        , 16515.        , 35056.        ,\n",
       "         6189.        ,  6692.        ,  9298.        ,  8499.        ,\n",
       "        19045.        , 10698.        , 12940.        ,  8845.        ,\n",
       "        15645.        ,  7603.        ,  9279.        , 31600.        ,\n",
       "         9279.        ,  7295.        ,  5572.        , 13207.12935323,\n",
       "        13499.        , 13415.        , 25552.        , 13845.        ,\n",
       "        18150.        , 32250.        , 17669.        ]))"
      ]
     },
     "execution_count": 22,
     "metadata": {},
     "output_type": "execute_result"
    }
   ],
   "source": [
    "X_train, y_train"
   ]
  },
  {
   "cell_type": "markdown",
   "metadata": {
    "deletable": false,
    "editable": false
   },
   "source": [
    "-----\n",
    "\n",
    "## Problem 4:  Ridge Regression\n",
    "\n",
    "For this problem, you must finish writing the `ridge_r` function by completing the following tasks:\n",
    "1. Create a [`Ridge Regression`](http://scikit-learn.org/stable/modules/generated/sklearn.linear_model.Ridge.html) model by using the scikit learn library. Be sure to\n",
    "  - Set the `alpha` hyperparameter for the `RidgeRegression` model to the `alpha` function parameter.\n",
    "  - Set the `random_state` parameter for the `RidgeRegression` model to the `rs` function parameter.\n",
    "  \n",
    "1. Fit the `RidgeRegression` model by using the training features and labels.\n",
    "1. Compute the $R^2$ coefficient using the testing features and labels.\n",
    "1. Return the $R^2$ coefficient.\n",
    "\n",
    "-----"
   ]
  },
  {
   "cell_type": "code",
   "execution_count": 23,
   "metadata": {},
   "outputs": [],
   "source": [
    "from sklearn.linear_model import Ridge"
   ]
  },
  {
   "cell_type": "code",
   "execution_count": 24,
   "metadata": {},
   "outputs": [],
   "source": [
    "ridge_model = Ridge(alpha=1, random_state=0)"
   ]
  },
  {
   "cell_type": "code",
   "execution_count": 25,
   "metadata": {},
   "outputs": [
    {
     "data": {
      "text/plain": [
       "Ridge(alpha=1, random_state=0)"
      ]
     },
     "execution_count": 25,
     "metadata": {},
     "output_type": "execute_result"
    }
   ],
   "source": [
    "ridge_model.fit(X_train, y_train)"
   ]
  },
  {
   "cell_type": "code",
   "execution_count": 26,
   "metadata": {},
   "outputs": [],
   "source": [
    "y_pred = ridge_model.predict(X_test)"
   ]
  },
  {
   "cell_type": "code",
   "execution_count": 27,
   "metadata": {},
   "outputs": [],
   "source": [
    "from sklearn.metrics import r2_score"
   ]
  },
  {
   "cell_type": "code",
   "execution_count": 28,
   "metadata": {},
   "outputs": [
    {
     "data": {
      "text/plain": [
       "0.6781910609377904"
      ]
     },
     "execution_count": 28,
     "metadata": {},
     "output_type": "execute_result"
    }
   ],
   "source": [
    "r2_score(y_test,y_pred)"
   ]
  },
  {
   "cell_type": "code",
   "execution_count": null,
   "metadata": {},
   "outputs": [],
   "source": []
  },
  {
   "cell_type": "code",
   "execution_count": 29,
   "metadata": {},
   "outputs": [],
   "source": [
    "ridge_model = Ridge(alpha=250, random_state=0)"
   ]
  },
  {
   "cell_type": "code",
   "execution_count": 30,
   "metadata": {},
   "outputs": [
    {
     "data": {
      "text/plain": [
       "Ridge(alpha=250, random_state=0)"
      ]
     },
     "execution_count": 30,
     "metadata": {},
     "output_type": "execute_result"
    }
   ],
   "source": [
    "ridge_model.fit(X_train, y_train)"
   ]
  },
  {
   "cell_type": "code",
   "execution_count": 31,
   "metadata": {},
   "outputs": [],
   "source": [
    "y_pred = ridge_model.predict(X_test)"
   ]
  },
  {
   "cell_type": "code",
   "execution_count": 32,
   "metadata": {},
   "outputs": [],
   "source": [
    "from sklearn.metrics import r2_score"
   ]
  },
  {
   "cell_type": "code",
   "execution_count": 33,
   "metadata": {},
   "outputs": [
    {
     "data": {
      "text/plain": [
       "0.733134627419015"
      ]
     },
     "execution_count": 33,
     "metadata": {},
     "output_type": "execute_result"
    }
   ],
   "source": [
    "r2_score(y_test,y_pred)"
   ]
  },
  {
   "cell_type": "code",
   "execution_count": 34,
   "metadata": {
    "deletable": false,
    "nbgrader": {
     "checksum": "f25618fd1ade432743e7552f52a680da",
     "grade": false,
     "grade_id": "p4_answer",
     "locked": false,
     "schema_version": 1,
     "solution": true
    }
   },
   "outputs": [],
   "source": [
    "from sklearn.linear_model import Ridge\n",
    "\n",
    "def ridge_r(X_train, y_train, X_test, y_test, alpha=1, rs=0):\n",
    "    \"\"\"\"\n",
    "    Fit a ridge regression model to the training data and \n",
    "    compute and return the R2 score for the test data.\n",
    "    \n",
    "    Inputs\n",
    "    ---------\n",
    "    X_train: Pandas DataFrame containing features for training dataset\n",
    "    y_train: Pandas DataFrame containing labels for training dataset\n",
    "    X_test: Pandas DataFrame containing features for testing dataset\n",
    "    y_test: Pandas DataFrame containing labels for testing dataset\n",
    "    alpha: a regularization parameter\n",
    "    rs: random state for random number generator\n",
    "    \n",
    "    Returns\n",
    "    -------\n",
    "    score: the coefficient of determination as a floating point value\n",
    "    \"\"\"\n",
    "    \n",
    "    ### YOUR CODE HERE"
   ]
  },
  {
   "cell_type": "code",
   "execution_count": null,
   "metadata": {
    "deletable": false,
    "editable": false,
    "nbgrader": {
     "checksum": "8f0bc684b108a92c803434a608194608",
     "grade": true,
     "grade_id": "p4_test",
     "locked": true,
     "points": 1,
     "schema_version": 1,
     "solution": false
    }
   },
   "outputs": [],
   "source": [
    "import helper\n",
    "\n",
    "# Compute scores as a function of alpha\n",
    "alphas = np.arange(0.1, 250, 1)\n",
    "scores = []\n",
    "for alpha in alphas:\n",
    "    score = ridge_r(X_train, y_train, X_test, y_test, alpha=alpha)\n",
    "    scores.append(score)\n",
    "\n",
    "# Compare scores to precomputed values\n",
    "for ans, sol in zip(scores, helper.rr_sol):\n",
    "    assert_almost_equal(ans, sol, places=2)"
   ]
  },
  {
   "cell_type": "markdown",
   "metadata": {
    "deletable": false,
    "editable": false
   },
   "source": [
    "-----\n",
    "\n",
    "If you plot your ridge regression scores against alpha they should look similar to this plot: \n",
    "\n",
    "![ridgeR2.png](ridgeR2.png)\n",
    "\n",
    "Notice how the r2 score increases as alpha increases. \n",
    "\n",
    "*If you are failing the previous assert statement, try running the cell below to help you debug the `ridge_r` function.*\n",
    "\n",
    "-----"
   ]
  },
  {
   "cell_type": "code",
   "execution_count": null,
   "metadata": {
    "deletable": false,
    "editable": false
   },
   "outputs": [],
   "source": [
    "# Plot the score as a function of alpha\n",
    "sns.set()\n",
    "fig, ax = plt.subplots()\n",
    "ax.plot(alphas, scores)\n",
    "ax.set(title='Ridge Regression Score',\n",
    "       xlabel='Alpha',\n",
    "       ylabel='Score')\n",
    "\n",
    "sns.despine()"
   ]
  },
  {
   "cell_type": "markdown",
   "metadata": {
    "deletable": false,
    "editable": false
   },
   "source": [
    "**&copy; 2017: Robert J. Brunner at the University of Illinois.**\n",
    "\n",
    "This notebook is released under the [Creative Commons license CC BY-NC-SA 4.0][ll]. Any reproduction, adaptation, distribution, dissemination or making available of this notebook for commercial use is not allowed unless authorized in writing by the copyright holder.\n",
    "\n",
    "[ll]: https://creativecommons.org/licenses/by-nc-sa/4.0/legalcode "
   ]
  }
 ],
 "metadata": {
  "coursera": {
   "course_slug": "data-analytics-accountancy-2",
   "graded_item_id": "ZfO6D",
   "launcher_item_id": "m4_assignment"
  },
  "kernelspec": {
   "display_name": "Python 3 (ipykernel)",
   "language": "python",
   "name": "python3"
  },
  "language_info": {
   "codemirror_mode": {
    "name": "ipython",
    "version": 3
   },
   "file_extension": ".py",
   "mimetype": "text/x-python",
   "name": "python",
   "nbconvert_exporter": "python",
   "pygments_lexer": "ipython3",
   "version": "3.8.8"
  }
 },
 "nbformat": 4,
 "nbformat_minor": 2
}
